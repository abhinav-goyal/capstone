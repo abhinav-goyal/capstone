{
 "cells": [
  {
   "cell_type": "code",
   "execution_count": 6,
   "metadata": {
    "collapsed": false
   },
   "outputs": [
    {
     "name": "stdout",
     "output_type": "stream",
     "text": [
      "3\n",
      "3\n",
      "3\n",
      "3\n",
      "3\n",
      "3\n",
      "3\n",
      "3\n",
      "3\n",
      "3\n",
      "3\n"
     ]
    }
   ],
   "source": [
    "import tensorflow as tf\n",
    "\n",
    "graph = tf.Graph()\n",
    "\n",
    "with graph.as_default():\n",
    "    x = tf.placeholder(tf.int32)\n",
    "\n",
    "with graph.as_default():\n",
    "    y = tf.placeholder(tf.int32)\n",
    "    z = x+y\n",
    "    lr = z\n",
    "    \n",
    "with tf.Session(graph=graph) as session:\n",
    "    tf.initialize_all_variables().run()\n",
    "    _z  = session.run(z, feed_dict={x:1, y:2})\n",
    "    print _z\n",
    "    \n",
    "\n",
    "for i in range(10):\n",
    "     with tf.Session(graph=graph) as session:\n",
    "        tf.initialize_all_variables().run()\n",
    "        _z  = session.run(z, feed_dict={x:1, y:2})\n",
    "        print _z"
   ]
  },
  {
   "cell_type": "code",
   "execution_count": null,
   "metadata": {
    "collapsed": true
   },
   "outputs": [],
   "source": [
    "train_counts = train_labels[:,0]\n",
    "valid_counts = valid_labels[:,0]\n",
    "test_counts = test_labels[:,0]\n",
    "\n",
    "train_counts_mean  = np.mean(train_counts)\n",
    "train_counts_std   = np.std(train_counts)\n",
    "\n",
    "print \"mean: {}, std: {}\".format(train_counts_mean, train_counts_std)\n",
    "\n",
    "def normalize_counts(counts):\n",
    "    return (counts - train_counts_mean)/train_counts_std\n",
    "\n",
    "def scale_counts(counts):\n",
    "    return np.round(counts * train_counts_std + train_counts_mean)\n",
    "\n",
    "\n",
    "train_counts = normalize_counts(train_counts)\n",
    "valid_counts = normalize_counts(valid_counts)\n",
    "test_counts =  normalize_counts(test_counts)"
   ]
  },
  {
   "cell_type": "code",
   "execution_count": null,
   "metadata": {
    "collapsed": true
   },
   "outputs": [],
   "source": [
    "def counts_accuracy(predictions, labels):\n",
    "    \"\"\"\n",
    "        How many places did we get right?\n",
    "    \"\"\"\n",
    "    #assert(predictions.shape[0] == len(labels))\n",
    "    return (100.0 * np.sum(np.argmax(predictions, 1).T == labels)) / labels.size"
   ]
  },
  {
   "cell_type": "code",
   "execution_count": null,
   "metadata": {
    "collapsed": true
   },
   "outputs": [],
   "source": [
    "batch_size = 32\n",
    "keep_prob_dropout = 0.99\n",
    "\n",
    "# start with\n",
    "image_size = 32\n",
    "num_channels = 1\n",
    "\n",
    "# convolve layers\n",
    "patch_size = 5\n",
    "depth1 = 16\n",
    "depth2 = 32\n",
    "\n",
    "\n",
    "## FCN\n",
    "num_hidden = 32\n",
    "num_labels = 1\n",
    "\n",
    "graph_numdigits = tf.Graph()\n",
    "with graph_numdigits.as_default():\n",
    "\n",
    "  # Input data.\n",
    "  tf_train_dataset = tf.placeholder(\n",
    "    tf.float32, shape=(batch_size, image_size, image_size, num_channels))\n",
    "  tf_train_labels = tf.placeholder(tf.float32, shape=(batch_size))\n",
    "  tf_valid_dataset = tf.constant(valid_images)\n",
    "  tf_test_dataset = tf.constant(test_images)\n",
    "  \n",
    "  # Variables.\n",
    "  layer1_weights = tf.get_variable(\"conv1\",\n",
    "                                   shape = [patch_size, patch_size, num_channels, depth1],\n",
    "                                   initializer = tf.contrib.layers.xavier_initializer_conv2d()\n",
    "                                  )\n",
    "  layer1_biases = tf.Variable(tf.zeros([depth1]))\n",
    "  \n",
    "\n",
    "  layer2_weights = tf.get_variable(\"conv2\",\n",
    "                                   shape = [patch_size, patch_size, depth1, depth1],\n",
    "                                   initializer = tf.contrib.layers.xavier_initializer_conv2d()\n",
    "                                  )\n",
    "  layer2_biases = tf.Variable(tf.zeros([depth1]))\n",
    "\n",
    "  layer3_weights = tf.Variable(tf.truncated_normal(\n",
    "    [patch_size * patch_size * depth1, num_hidden], stddev=0.01)) \n",
    "  layer3_biases = tf.Variable(tf.zeros([num_hidden]))\n",
    "\n",
    "  ## create a predictor here\n",
    "  op_weights = tf.Variable(tf.truncated_normal(\n",
    "      [num_hidden, num_labels], stddev=0.1))\n",
    "  op_biases = tf.Variable(tf.constant(0.01, shape=[num_labels]))\n",
    "\n",
    "  # Model.\n",
    "  def model(data, is_training = False):\n",
    "    conv = tf.nn.conv2d(data, layer1_weights, [1, 1, 1, 1], padding='VALID') # -> 28x28x1x16\n",
    "    pool = tf.nn.max_pool(conv, [1, 2, 2, 1], [1,2,2,1], padding = 'SAME') ## \n",
    "    hidden = tf.nn.relu(pool + layer1_biases)\n",
    "    \n",
    "    conv = tf.nn.conv2d(hidden, layer2_weights, [1, 1, 1, 1], padding='VALID')\n",
    "    pool = tf.nn.max_pool(conv, [1,2,2,1], [1,2,2,1], padding = 'SAME')\n",
    "    hidden = tf.nn.relu(pool + layer2_biases)\n",
    "    \n",
    "    shape = hidden.get_shape().as_list()\n",
    "    reshape = tf.reshape(hidden, [shape[0], shape[1] * shape[2] * shape[3]])\n",
    "    hidden = tf.nn.relu(tf.matmul(reshape, layer3_weights) + layer3_biases)\n",
    "    if is_training:\n",
    "        hidden  = tf.nn.dropout(hidden, keep_prob=keep_prob_dropout)\n",
    "\n",
    "    return tf.matmul(hidden, op_weights) + op_biases\n",
    "    \n",
    "  # Training computation.\n",
    "  num_digits = model(tf_train_dataset, True)\n",
    "  loss = tf.nn.l2_loss(num_digits - tf_train_labels)\n",
    "   \n",
    "  # Optimizer.\n",
    "  global_step = tf.Variable(0)  # count the number of steps taken.\n",
    "  learning_rate = tf.train.exponential_decay(0.05, global_step, 300, 0.98)\n",
    "  optimizer = tf.train.GradientDescentOptimizer(learning_rate).minimize(loss, global_step=global_step)\n",
    "  #optimizer = tf.train.AdagradOptimizer(learning_rate).minimize(loss, global_step=global_step)\n",
    "\n",
    "  # Predictions for the training, validation, and test data.\n",
    "  train_prediction = num_digits\n",
    "  valid_prediction = model(tf_valid_dataset)\n",
    "  test_prediction  = model(tf_test_dataset)"
   ]
  },
  {
   "cell_type": "code",
   "execution_count": null,
   "metadata": {
    "collapsed": true
   },
   "outputs": [],
   "source": [
    "num_steps = 150001\n",
    "\n",
    "with tf.Session(graph=graph_numdigits) as session:\n",
    "  tf.initialize_all_variables().run()\n",
    "  print('Initialized')\n",
    "  for step in range(num_steps):\n",
    "    offset = (step * batch_size) % (train_counts.shape[0] - batch_size)\n",
    "    batch_data = train_images[offset:(offset + batch_size), :, :, :]\n",
    "    batch_labels = train_counts[offset:(offset + batch_size)]\n",
    "    feed_dict = {tf_train_dataset : batch_data, tf_train_labels : batch_labels}\n",
    "    _, predictions, l = session.run(\n",
    "      [optimizer, train_prediction, loss], feed_dict=feed_dict)\n",
    "    if (step % 2500 == 0):\n",
    "      print('Minibatch loss at step %d: %f' % (step, l))\n",
    "      print('Minibatch accuracy: %.1f%%' % counts_accuracy(scale_counts(predictions), batch_labels))\n",
    "      print('Validation accuracy: %.1f%%' % counts_accuracy(\n",
    "        scale_counts(valid_prediction.eval()), valid_counts))\n",
    "  final_predictions = test_prediction.eval()\n",
    "  print('Test accuracy: %.1f%%' % counts_accuracy(scale_counts(final_predictions), test_counts))"
   ]
  }
 ],
 "metadata": {
  "kernelspec": {
   "display_name": "Python [Root]",
   "language": "python",
   "name": "Python [Root]"
  },
  "language_info": {
   "codemirror_mode": {
    "name": "ipython",
    "version": 2
   },
   "file_extension": ".py",
   "mimetype": "text/x-python",
   "name": "python",
   "nbconvert_exporter": "python",
   "pygments_lexer": "ipython2",
   "version": "2.7.12"
  }
 },
 "nbformat": 4,
 "nbformat_minor": 0
}
