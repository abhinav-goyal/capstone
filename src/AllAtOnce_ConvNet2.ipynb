{
 "cells": [
  {
   "cell_type": "markdown",
   "metadata": {
    "collapsed": true
   },
   "source": [
    "doc = \"\"\"\n",
    "    This file contains the real implementation for decoding the images. \n",
    "    \n",
    "    The other file, AllAtOnce_ConvNet was used for data preparation.\n",
    "\"\"\""
   ]
  },
  {
   "cell_type": "code",
   "execution_count": 258,
   "metadata": {
    "collapsed": true
   },
   "outputs": [],
   "source": [
    "## import libraries\n",
    "\n",
    "import numpy as np\n",
    "import scipy\n",
    "import scipy.io as sio\n",
    "import scipy.ndimage as ndimage\n",
    "import tensorflow as tf\n",
    "import matplotlib.pyplot as plt\n",
    "%matplotlib inline\n",
    "import math\n",
    "import os\n",
    "import pylab as P\n",
    "import skimage\n",
    "import h5py\n",
    "import PIL.Image as Image\n",
    "import functools\n",
    "from sklearn.cross_validation import train_test_split as ttsplit\n",
    "import cPickle as pickle"
   ]
  },
  {
   "cell_type": "code",
   "execution_count": 259,
   "metadata": {
    "collapsed": true
   },
   "outputs": [],
   "source": [
    "#set the random seed so that we get consistent results across runs\n",
    "tf.set_random_seed(1234)"
   ]
  },
  {
   "cell_type": "code",
   "execution_count": 260,
   "metadata": {
    "collapsed": true
   },
   "outputs": [],
   "source": [
    "# helpers to read files off the disk\n",
    "## TODO: move helpers to their own module\n",
    "\n",
    "def read_pickle(f_name):\n",
    "    f = open(f_name, 'r')\n",
    "    return pickle.load(f)\n",
    "\n",
    "data_path = os.path.join(os.path.split(os.getcwd())[0], 'data')\n",
    "\n",
    "def get_data_path(f_name):\n",
    "    return os.path.join(data_path, f_name)"
   ]
  },
  {
   "cell_type": "code",
   "execution_count": 261,
   "metadata": {
    "collapsed": false
   },
   "outputs": [],
   "source": [
    "# read the data off the disk\n",
    "\n",
    "bundles = [read_pickle(get_data_path(f_name)) for f_name in ['train_images.pkl', 'test_images.pkl', 'valid_images.pkl']]\n",
    "train_bundle, test_bundle, valid_bundle = bundles\n",
    "\n",
    "train_images = train_bundle['X']\n",
    "test_images = test_bundle['X']\n",
    "valid_images = valid_bundle['X']\n",
    "\n",
    "train_labels = train_bundle['y']\n",
    "test_labels = test_bundle['y']\n",
    "valid_labels = valid_bundle['y']\n",
    "        "
   ]
  },
  {
   "cell_type": "code",
   "execution_count": 262,
   "metadata": {
    "collapsed": true
   },
   "outputs": [],
   "source": [
    "## let's carry out some exploratory analysis\n",
    "## let's plagiarise our plot code from the other file\n",
    "## TODO: figure out if ipynb can import other ipynb. actually, no. move code to .py\n",
    "\n",
    "labels = range(11)\n",
    "\n",
    "def plot_label_data(x,y, name, x_label, y_label, width=1./3, color='blue'):\n",
    "    plt.bar(x, y, width = width, color = color)\n",
    "    plt.title(name)\n",
    "    plt.xlabel(x_label)\n",
    "    plt.ylabel(y_label)\n",
    "    plt.show()\n",
    "    \n",
    "\n",
    "\n",
    "def plot_label_distribution(label_data, name):\n",
    "    sizes = np.array([len(np.where(label_data==l)[0]) for l in labels], dtype=np.float32)\n",
    "    print sizes/sum(sizes)\n",
    "    plot_label_data(labels, sizes, name, 'Digits', 'Frequency')\n",
    "        \n"
   ]
  },
  {
   "cell_type": "code",
   "execution_count": 263,
   "metadata": {
    "collapsed": false
   },
   "outputs": [
    {
     "name": "stdout",
     "output_type": "stream",
     "text": [
      "[ 0.02224263  0.09669932  0.15948628  0.06329712  0.03403989  0.03043057\n",
      "  0.02521426  0.02574992  0.02117131  0.02034231  0.50132638]\n"
     ]
    },
    {
     "data": {
      "image/png": "[encoded data removed]",
      "text/plain": [
       "<matplotlib.figure.Figure at 0x7ff44a5bd950>"
      ]
     },
     "metadata": {},
     "output_type": "display_data"
    },
    {
     "name": "stdout",
     "output_type": "stream",
     "text": [
      "[ 0.03597106  0.08391263  0.12338489  0.13160102  0.05236414  0.04295241\n",
      "  0.0335356   0.03520131  0.02867919  0.02772808  0.40466967]\n"
     ]
    },
    {
     "data": {
      "image/png": "[encoded data removed]",
      "text/plain": [
       "<matplotlib.figure.Figure at 0x7ff448e9b150>"
      ]
     },
     "metadata": {},
     "output_type": "display_data"
    },
    {
     "name": "stdout",
     "output_type": "stream",
     "text": [
      "[ 0.02534728  0.09070784  0.14137474  0.09253418  0.04659915  0.03566882\n",
      "  0.02999613  0.02963639  0.02410205  0.02476617  0.45926726]\n"
     ]
    },
    {
     "data": {
      "image/png": "[encoded data removed]",
      "text/plain": [
       "<matplotlib.figure.Figure at 0x7ff448e9b050>"
      ]
     },
     "metadata": {},
     "output_type": "display_data"
    }
   ],
   "source": [
    "plot_label_distribution(test_labels, 'Test digits')\n",
    "plot_label_distribution(train_labels, 'Train digits')\n",
    "plot_label_distribution(valid_labels, 'Valid digits')\n"
   ]
  },
  {
   "cell_type": "markdown",
   "metadata": {},
   "source": [
    "Extremely interesting that Benford's law has been abandoned here. \n",
    "\n",
    "Obviously, \n",
    "- the cropped images and the full images are not the same\n",
    "- the 10 stands for the blank and it is natural that it appears so frequently"
   ]
  },
  {
   "cell_type": "code",
   "execution_count": 264,
   "metadata": {
    "collapsed": false
   },
   "outputs": [],
   "source": [
    "## plot distributions of lengths\n",
    "from collections import Counter\n",
    "\n",
    "def get_lengths(label_data):\n",
    "    return map(lambda row: len(np.where(row != 10)[0]), label_data)\n",
    "\n",
    "## check how many of each kind we have\n",
    "def count_distribution(label_data):\n",
    "    lengths = get_lengths(label_data)\n",
    "    return Counter(length)\n",
    "\n",
    "def plot_count_distribution(label_data, name):\n",
    "    \n",
    "    print len(label_data)\n",
    "    counts = Counter(label_data)\n",
    "    keys  = counts.keys()\n",
    "    sizes = counts.values()\n",
    "    \n",
    "    print counts.keys()\n",
    "    print counts.values()\n",
    "    assert(sum(counts.values()) == len(label_data))\n",
    "    plot_label_data(keys, sizes, name, 'Sizes', 'Frequency', width = 2./3)\n",
    "\n"
   ]
  },
  {
   "cell_type": "code",
   "execution_count": 265,
   "metadata": {
    "collapsed": false
   },
   "outputs": [
    {
     "name": "stdout",
     "output_type": "stream",
     "text": [
      "229731\n",
      "[1, 2, 3, 4, 5]\n",
      "[13681, 86714, 113711, 15503, 122]\n"
     ]
    },
    {
     "data": {
      "image/png": "[encoded data removed]",
      "text/plain": [
       "<matplotlib.figure.Figure at 0x7ff425679350>"
      ]
     },
     "metadata": {},
     "output_type": "display_data"
    },
    {
     "name": "stdout",
     "output_type": "stream",
     "text": [
      "6023\n",
      "[1, 2, 3, 4, 5]\n",
      "[841, 3142, 1769, 269, 2]\n"
     ]
    },
    {
     "data": {
      "image/png": "[encoded data removed]",
      "text/plain": [
       "<matplotlib.figure.Figure at 0x7ff44b765050>"
      ]
     },
     "metadata": {},
     "output_type": "display_data"
    },
    {
     "name": "stdout",
     "output_type": "stream",
     "text": [
      "13068\n",
      "[1, 2, 3, 4, 5]\n",
      "[2483, 8356, 2081, 146, 2]\n"
     ]
    },
    {
     "data": {
      "image/png": "[encoded data removed]",
      "text/plain": [
       "<matplotlib.figure.Figure at 0x7ff44b7654d0>"
      ]
     },
     "metadata": {},
     "output_type": "display_data"
    }
   ],
   "source": [
    "plot_count_distribution(train_labels[:,0], \"Size distribution: Training Set\")\n",
    "plot_count_distribution(valid_labels[:,0], \"Size distribution: Validation Set\")\n",
    "plot_count_distribution(test_labels[:,0], \"Size distribution: Test Set\")"
   ]
  },
  {
   "cell_type": "markdown",
   "metadata": {},
   "source": [
    "# Let's try some learning"
   ]
  },
  {
   "cell_type": "code",
   "execution_count": 266,
   "metadata": {
    "collapsed": true
   },
   "outputs": [],
   "source": [
    "#define an accuracy measure for this model\n",
    "def accuracy(predictions, labels):\n",
    "    \"\"\"\n",
    "        How many places did we get right?\n",
    "    \"\"\"\n",
    "    return (100.0 * np.sum(np.argmax(predictions, 2).T == labels)) / labels.size"
   ]
  },
  {
   "cell_type": "code",
   "execution_count": 267,
   "metadata": {
    "collapsed": false
   },
   "outputs": [],
   "source": [
    "## we use 64 images at a time\n",
    "batch_size = 64\n",
    "\n",
    "# each image is image_size x image_size and has one channel\n",
    "image_size = 32\n",
    "num_channels = 1\n",
    "\n",
    "# convolve layers -> we convolve with a 5x5 patch and increase the depth as we go along\n",
    "patch_size = 5\n",
    "\n",
    "## first, we get to a depth of 16 at the end of one stage of convolution\n",
    "depth1 = 16\n",
    "\n",
    "# then we proceed to a depth of 32 for the convolved data\n",
    "depth2 = 32\n",
    "\n",
    "\n",
    "## droput probability of 0.99 to regularize the network\n",
    "keep_prob_dropout = 0.99\n",
    "\n",
    "## Fully connected network at the end\n",
    "num_hidden = 64\n",
    "\n",
    "# each of our variables can be either of 11 values\n",
    "num_labels = 11 ## 10 digits (0-9) + we have a blank space\n",
    "\n",
    "# create a tensorflow graph\n",
    "graph = tf.Graph()\n",
    "\n",
    "## use this graph\n",
    "\n",
    "with graph.as_default():\n",
    "\n",
    "  # Input data.\n",
    "  # train data\n",
    "  tf_train_dataset = tf.placeholder(\n",
    "    tf.float32, shape=(batch_size, image_size, image_size, num_channels))\n",
    "  tf_train_labels = tf.placeholder(tf.int32, shape=(batch_size, 6))\n",
    "\n",
    "  ## test and validation data\n",
    "  tf_valid_dataset = tf.constant(valid_images)\n",
    "  tf_test_dataset = tf.constant(test_images)\n",
    "  \n",
    "  # Variables.\n",
    "  ## convolution layer 1\n",
    "  layer1_weights = tf.get_variable(\"conv1\",\n",
    "                                   shape = [patch_size, patch_size, num_channels, depth1],\n",
    "                                   initializer = tf.contrib.layers.xavier_initializer_conv2d()\n",
    "                                  )\n",
    "  layer1_biases = tf.Variable(tf.zeros([depth1]))\n",
    "  \n",
    "  ## convolution layer 2\n",
    "  layer2_weights = tf.get_variable(\"conv2\",\n",
    "                                   shape = [patch_size, patch_size, depth1, depth2],\n",
    "                                   initializer = tf.contrib.layers.xavier_initializer_conv2d()\n",
    "                                  )\n",
    "  layer2_biases = tf.Variable(tf.zeros([depth2]))\n",
    "\n",
    "  ## hidden layer\n",
    "  layer3_weights = tf.Variable(tf.truncated_normal(\n",
    "    [patch_size * patch_size * depth2, num_hidden], stddev=0.1)) \n",
    "  layer3_biases = tf.Variable(tf.zeros([num_hidden]))\n",
    "\n",
    "  ## 5 predictors here for the five places\n",
    "  ## op layer\n",
    "  op1_weights = tf.Variable(tf.truncated_normal(\n",
    "      [num_hidden, num_labels], stddev=0.1))\n",
    "  op1_biases = tf.Variable(tf.constant(0.1, shape=[num_labels]))\n",
    "\n",
    "  op2_weights = tf.Variable(tf.truncated_normal(\n",
    "      [num_hidden, num_labels], stddev=0.1))\n",
    "  op2_biases = tf.Variable(tf.constant(0.1, shape=[num_labels]))\n",
    "\n",
    "  op3_weights = tf.Variable(tf.truncated_normal(\n",
    "      [num_hidden, num_labels], stddev=0.1))\n",
    "  op3_biases = tf.Variable(tf.constant(0.1, shape=[num_labels]))\n",
    "\n",
    "  op4_weights = tf.Variable(tf.truncated_normal(\n",
    "      [num_hidden, num_labels], stddev=0.1))\n",
    "  op4_biases = tf.Variable(tf.constant(0.1, shape=[num_labels]))\n",
    "\n",
    "  op5_weights = tf.Variable(tf.truncated_normal(\n",
    "      [num_hidden, num_labels], stddev=0.1))\n",
    "  op5_biases = tf.Variable(tf.constant(0.1, shape=[num_labels]))\n",
    "\n",
    "\n",
    "  # The actual model\n",
    "  def model(data, is_training = False):\n",
    "    \n",
    "    ## convolve the input data\n",
    "    conv = tf.nn.conv2d(data, layer1_weights, [1, 1, 1, 1], padding='VALID') # -> 28x28x1x16\n",
    "    \n",
    "    ## pool it using max_pool\n",
    "    pool = tf.nn.max_pool(conv, [1, 2, 2, 1], [1,2,2,1], padding = 'SAME') ## \n",
    "    \n",
    "    ## pass it through a relu to let the positive signals through\n",
    "    hidden = tf.nn.relu(pool + layer1_biases)\n",
    "    \n",
    "    ## repeat the same all over\n",
    "    conv = tf.nn.conv2d(hidden, layer2_weights, [1, 1, 1, 1], padding='VALID')\n",
    "    pool = tf.nn.max_pool(conv, [1,2,2,1], [1,2,2,1], padding = 'SAME')\n",
    "    hidden = tf.nn.relu(pool + layer2_biases)\n",
    "    \n",
    "    ## pass this to the hidden layer\n",
    "    shape = hidden.get_shape().as_list()\n",
    "    reshape = tf.reshape(hidden, [shape[0], shape[1] * shape[2] * shape[3]])\n",
    "    hidden = tf.nn.relu(tf.matmul(reshape, layer3_weights) + layer3_biases)\n",
    "    \n",
    "    ## use dropouts (but only if training)\n",
    "    if is_training:\n",
    "        hidden  = tf.nn.dropout(hidden, keep_prob=keep_prob_dropout)\n",
    "\n",
    "    ## predict the outputs using the op projection layers\n",
    "    digit_1 = tf.matmul(hidden, op1_weights) + op1_biases\n",
    "    digit_2 = tf.matmul(hidden, op2_weights) + op2_biases\n",
    "    digit_3 = tf.matmul(hidden, op3_weights) + op3_biases\n",
    "    digit_4 = tf.matmul(hidden, op4_weights) + op4_biases\n",
    "    digit_5 = tf.matmul(hidden, op5_weights) + op5_biases\n",
    "    \n",
    "    # return the predicted outputs\n",
    "    return (digit_1, digit_2, digit_3, digit_4, digit_5)\n",
    "\n",
    "  # Get the output from the model function\n",
    "  d1, d2, d3, d4, d5 = model(tf_train_dataset, True)\n",
    "\n",
    "  # Compute the loss -> the average loss for each digit\n",
    "  loss = tf.reduce_mean(\n",
    "        tf.nn.sparse_softmax_cross_entropy_with_logits(d1, tf_train_labels[:,1])\n",
    "     +  tf.nn.sparse_softmax_cross_entropy_with_logits(d2, tf_train_labels[:,2])\n",
    "     +  tf.nn.sparse_softmax_cross_entropy_with_logits(d3, tf_train_labels[:,3])\n",
    "     +  tf.nn.sparse_softmax_cross_entropy_with_logits(d4, tf_train_labels[:,4])\n",
    "     +  tf.nn.sparse_softmax_cross_entropy_with_logits(d5, tf_train_labels[:,5])\n",
    "    )\n",
    "    \n",
    "  # Optimize this loss\n",
    "  global_step = tf.Variable(0)  # count the number of steps taken.\n",
    "  # set the learning the rate as variable\n",
    "  learning_rate = tf.train.exponential_decay(0.08, global_step, 2500, 0.98)\n",
    "    \n",
    "  ## define the optimization function\n",
    "  #optimizer = tf.train.GradientDescentOptimizer(learning_rate).minimize(loss, global_step=global_step)\n",
    "  #optimizer = tf.train.AdagradOptimizer(learning_rate).minimize(loss, global_step=global_step)\n",
    "  #optimizer = tf.train.AdamOptimizer(learning_rate).minimize(loss, global_step=global_step)\n",
    "  optimizer = tf.train.AdadeltaOptimizer(learning_rate).minimize(loss, global_step=global_step)\n",
    "  #optimizer = tf.train.FtrlOptimizer(learning_rate).minimize(loss, global_step=global_step)\n",
    "  #optimizer = tf.train.RMSPropOptimizer(learning_rate).minimize(loss, global_step=global_step)  \n",
    "\n",
    "  # Predictions for the training, validation, and test data.\n",
    "  train_prediction = tf.pack([tf.nn.softmax(d) for d in [d1, d2, d3, d4, d5]])\n",
    "  valid_model  = model(tf_valid_dataset)\n",
    "  valid_prediction = tf.pack([tf.nn.softmax(valid_model[idx]) for idx in range(5)]) #d in [valid_model]])\n",
    "  test_model  = model(tf_test_dataset)\n",
    "  test_prediction = tf.pack([tf.nn.softmax(test_model[idx]) for idx in range(5)])"
   ]
  },
  {
   "cell_type": "code",
   "execution_count": 268,
   "metadata": {
    "collapsed": false
   },
   "outputs": [
    {
     "name": "stdout",
     "output_type": "stream",
     "text": [
      "Initialized\n",
      "Minibatch loss at step 0: 12.576935\n",
      "Minibatch accuracy: 5.9%\n",
      "Validation accuracy: 3.9%\n",
      "Minibatch loss at step 2500: 1.527837\n",
      "Minibatch accuracy: 91.2%\n",
      "Validation accuracy: 89.9%\n",
      "Minibatch loss at step 5000: 1.171208\n",
      "Minibatch accuracy: 91.9%\n",
      "Validation accuracy: 91.5%\n",
      "Minibatch loss at step 7500: 0.841072\n",
      "Minibatch accuracy: 94.4%\n",
      "Validation accuracy: 92.3%\n",
      "Minibatch loss at step 10000: 0.998764\n",
      "Minibatch accuracy: 90.6%\n",
      "Validation accuracy: 92.3%\n",
      "Minibatch loss at step 12500: 0.977042\n",
      "Minibatch accuracy: 94.4%\n",
      "Validation accuracy: 92.8%\n",
      "Minibatch loss at step 15000: 0.969641\n",
      "Minibatch accuracy: 94.4%\n",
      "Validation accuracy: 92.6%\n",
      "Minibatch loss at step 17500: 1.023044\n",
      "Minibatch accuracy: 93.8%\n",
      "Validation accuracy: 92.7%\n",
      "Minibatch loss at step 20000: 0.734750\n",
      "Minibatch accuracy: 95.6%\n",
      "Validation accuracy: 92.6%\n",
      "Minibatch loss at step 22500: 0.579110\n",
      "Minibatch accuracy: 96.9%\n",
      "Validation accuracy: 93.2%\n",
      "Minibatch loss at step 25000: 0.986045\n",
      "Minibatch accuracy: 95.0%\n",
      "Validation accuracy: 92.9%\n",
      "Minibatch loss at step 27500: 0.809124\n",
      "Minibatch accuracy: 94.7%\n",
      "Validation accuracy: 93.3%\n",
      "Minibatch loss at step 30000: 0.943414\n",
      "Minibatch accuracy: 92.8%\n",
      "Validation accuracy: 92.9%\n",
      "Minibatch loss at step 32500: 0.692990\n",
      "Minibatch accuracy: 95.9%\n",
      "Validation accuracy: 92.9%\n",
      "Minibatch loss at step 35000: 0.351253\n",
      "Minibatch accuracy: 97.5%\n",
      "Validation accuracy: 93.4%\n",
      "Minibatch loss at step 37500: 0.470297\n",
      "Minibatch accuracy: 96.6%\n",
      "Validation accuracy: 93.0%\n",
      "Minibatch loss at step 40000: 0.731439\n",
      "Minibatch accuracy: 94.4%\n",
      "Validation accuracy: 93.1%\n",
      "Minibatch loss at step 42500: 0.676719\n",
      "Minibatch accuracy: 95.6%\n",
      "Validation accuracy: 93.3%\n",
      "Minibatch loss at step 45000: 1.079684\n",
      "Minibatch accuracy: 95.6%\n",
      "Validation accuracy: 93.3%\n",
      "Minibatch loss at step 47500: 1.252907\n",
      "Minibatch accuracy: 94.1%\n",
      "Validation accuracy: 92.8%\n",
      "Minibatch loss at step 50000: 0.474207\n",
      "Minibatch accuracy: 96.9%\n",
      "Validation accuracy: 93.4%\n",
      "Minibatch loss at step 52500: 0.465873\n",
      "Minibatch accuracy: 96.2%\n",
      "Validation accuracy: 93.4%\n",
      "Minibatch loss at step 55000: 0.253783\n",
      "Minibatch accuracy: 98.4%\n",
      "Validation accuracy: 93.1%\n",
      "Minibatch loss at step 57500: 0.757653\n",
      "Minibatch accuracy: 95.6%\n",
      "Validation accuracy: 93.0%\n",
      "Minibatch loss at step 60000: 0.481834\n",
      "Minibatch accuracy: 97.5%\n",
      "Validation accuracy: 93.7%\n",
      "Minibatch loss at step 62500: 0.811379\n",
      "Minibatch accuracy: 95.3%\n",
      "Validation accuracy: 93.6%\n",
      "Minibatch loss at step 65000: 0.688631\n",
      "Minibatch accuracy: 96.9%\n",
      "Validation accuracy: 93.2%\n",
      "Minibatch loss at step 67500: 0.374775\n",
      "Minibatch accuracy: 98.1%\n",
      "Validation accuracy: 93.3%\n",
      "Minibatch loss at step 70000: 0.790971\n",
      "Minibatch accuracy: 95.0%\n",
      "Validation accuracy: 93.5%\n",
      "Minibatch loss at step 72500: 0.378962\n",
      "Minibatch accuracy: 97.2%\n",
      "Validation accuracy: 93.4%\n",
      "Minibatch loss at step 75000: 0.621779\n",
      "Minibatch accuracy: 96.9%\n",
      "Validation accuracy: 93.4%\n",
      "Minibatch loss at step 77500: 0.283876\n",
      "Minibatch accuracy: 98.1%\n",
      "Validation accuracy: 93.7%\n",
      "Minibatch loss at step 80000: 0.736778\n",
      "Minibatch accuracy: 95.6%\n",
      "Validation accuracy: 93.5%\n",
      "Minibatch loss at step 82500: 0.617200\n",
      "Minibatch accuracy: 97.5%\n",
      "Validation accuracy: 93.3%\n",
      "Minibatch loss at step 85000: 0.379009\n",
      "Minibatch accuracy: 97.5%\n",
      "Validation accuracy: 93.4%\n",
      "Minibatch loss at step 87500: 0.815722\n",
      "Minibatch accuracy: 95.0%\n",
      "Validation accuracy: 93.7%\n",
      "Minibatch loss at step 90000: 0.666566\n",
      "Minibatch accuracy: 95.9%\n",
      "Validation accuracy: 93.3%\n",
      "Minibatch loss at step 92500: 1.240909\n",
      "Minibatch accuracy: 95.9%\n",
      "Validation accuracy: 93.6%\n",
      "Minibatch loss at step 95000: 0.525420\n",
      "Minibatch accuracy: 96.6%\n",
      "Validation accuracy: 93.6%\n",
      "Minibatch loss at step 97500: 0.662633\n",
      "Minibatch accuracy: 95.3%\n",
      "Validation accuracy: 93.7%\n",
      "Minibatch loss at step 100000: 0.341797\n",
      "Minibatch accuracy: 98.4%\n",
      "Validation accuracy: 93.5%\n",
      "Minibatch loss at step 102500: 0.422557\n",
      "Minibatch accuracy: 97.5%\n",
      "Validation accuracy: 93.7%\n",
      "Minibatch loss at step 105000: 0.766139\n",
      "Minibatch accuracy: 95.0%\n",
      "Validation accuracy: 93.3%\n",
      "Minibatch loss at step 107500: 0.829816\n",
      "Minibatch accuracy: 94.4%\n",
      "Validation accuracy: 93.3%\n",
      "Minibatch loss at step 110000: 1.185337\n",
      "Minibatch accuracy: 94.7%\n",
      "Validation accuracy: 93.3%\n",
      "Minibatch loss at step 112500: 0.601385\n",
      "Minibatch accuracy: 96.2%\n",
      "Validation accuracy: 93.7%\n",
      "Minibatch loss at step 115000: 0.550295\n",
      "Minibatch accuracy: 97.2%\n",
      "Validation accuracy: 93.6%\n",
      "Minibatch loss at step 117500: 0.683397\n",
      "Minibatch accuracy: 96.6%\n",
      "Validation accuracy: 93.3%\n",
      "Minibatch loss at step 120000: 0.558359\n",
      "Minibatch accuracy: 96.9%\n",
      "Validation accuracy: 93.6%\n",
      "Minibatch loss at step 122500: 0.343147\n",
      "Minibatch accuracy: 97.5%\n",
      "Validation accuracy: 93.7%\n",
      "Minibatch loss at step 125000: 0.751267\n",
      "Minibatch accuracy: 96.6%\n",
      "Validation accuracy: 93.3%\n",
      "Minibatch loss at step 127500: 0.843242\n",
      "Minibatch accuracy: 95.3%\n",
      "Validation accuracy: 93.5%\n",
      "Minibatch loss at step 130000: 0.659021\n",
      "Minibatch accuracy: 95.9%\n",
      "Validation accuracy: 93.6%\n",
      "Minibatch loss at step 132500: 0.653044\n",
      "Minibatch accuracy: 95.6%\n",
      "Validation accuracy: 93.4%\n",
      "Minibatch loss at step 135000: 0.316622\n",
      "Minibatch accuracy: 98.4%\n",
      "Validation accuracy: 93.6%\n",
      "Minibatch loss at step 137500: 0.300264\n",
      "Minibatch accuracy: 97.2%\n",
      "Validation accuracy: 93.7%\n",
      "Minibatch loss at step 140000: 0.527434\n",
      "Minibatch accuracy: 96.9%\n",
      "Validation accuracy: 93.6%\n",
      "Minibatch loss at step 142500: 0.513425\n",
      "Minibatch accuracy: 95.3%\n",
      "Validation accuracy: 93.7%\n",
      "Minibatch loss at step 145000: 1.056946\n",
      "Minibatch accuracy: 95.6%\n",
      "Validation accuracy: 93.3%\n",
      "Minibatch loss at step 147500: 0.704778\n",
      "Minibatch accuracy: 96.9%\n",
      "Validation accuracy: 93.5%\n",
      "Minibatch loss at step 150000: 0.996160\n",
      "Minibatch accuracy: 95.3%\n",
      "Validation accuracy: 93.6%\n",
      "Test accuracy: 94.8%\n"
     ]
    }
   ],
   "source": [
    "#run this for 150k steps\n",
    "num_steps = 150001\n",
    "\n",
    "# define a tensorflow session\n",
    "with tf.Session(graph=graph) as session:\n",
    "  # initialize variables\n",
    "  tf.initialize_all_variables().run()\n",
    "  print('Initialized')\n",
    "\n",
    "  for step in range(num_steps):\n",
    "    # prepare feed data\n",
    "    offset = (step * batch_size) % (train_labels.shape[0] - batch_size)\n",
    "    batch_data = train_images[offset:(offset + batch_size), :, :, :]\n",
    "    batch_labels = train_labels[offset:(offset + batch_size)]\n",
    "    feed_dict = {tf_train_dataset : batch_data, tf_train_labels : batch_labels}\n",
    "    \n",
    "    ## get the output\n",
    "    _, l, predictions = session.run(\n",
    "      [optimizer, loss, train_prediction], feed_dict=feed_dict)\n",
    "    if (step % 2500 == 0):\n",
    "      print('Minibatch loss at step %d: %f' % (step, l))\n",
    "      print('Minibatch accuracy: %.1f%%' % accuracy(predictions, batch_labels[:,1:6]))\n",
    "      print('Validation accuracy: %.1f%%' % accuracy(\n",
    "        valid_prediction.eval(), valid_labels[:,1:6]))\n",
    "\n",
    "  # calculate final results\n",
    "  final_predictions = test_prediction.eval()\n",
    "  print('Test accuracy: %.1f%%' % accuracy(final_predictions, test_labels[:,1:6]))"
   ]
  },
  {
   "cell_type": "markdown",
   "metadata": {},
   "source": [
    "94.6 is not too bad!"
   ]
  },
  {
   "cell_type": "code",
   "execution_count": 269,
   "metadata": {
    "collapsed": false
   },
   "outputs": [],
   "source": [
    "# how did we do at decoding entire strings?\n",
    "def whole_string_accuracy(predictions, labels):\n",
    "    \"\"\"\n",
    "        How many strings did we get entirely right?\n",
    "    \"\"\"\n",
    "    ## compare a row at a time\n",
    "    equal_rows = [np.all(predictions[idx,:] == labels[idx,:]) for idx in range(labels.shape[0])]\n",
    "    return (100.0 * np.sum(equal_rows))/ labels.shape[0]"
   ]
  },
  {
   "cell_type": "code",
   "execution_count": 270,
   "metadata": {
    "collapsed": false
   },
   "outputs": [
    {
     "name": "stdout",
     "output_type": "stream",
     "text": [
      "80.3183348638\n"
     ]
    }
   ],
   "source": [
    "predictions = np.argmax(final_predictions, 2).T\n",
    "print whole_string_accuracy(predictions, test_labels[:,1:6])"
   ]
  },
  {
   "cell_type": "markdown",
   "metadata": {},
   "source": [
    "Clearly there is a considerable distance to go as far as improvement is concerned!"
   ]
  },
  {
   "cell_type": "code",
   "execution_count": 271,
   "metadata": {
    "collapsed": false
   },
   "outputs": [],
   "source": [
    "def display_images(images, labels, rand_indices=None):\n",
    "    \"\"\"\n",
    "        Display random images from a set and return indices so we can match the results\n",
    "    \"\"\"\n",
    "    display_size = 10\n",
    "    display_per_row = 10\n",
    "    num_rows = display_size/display_per_row\n",
    "    if rand_indices is None:\n",
    "        rand_indices = np.random.randint(0, test_images.shape[0], size=display_size)\n",
    "    row_size = 20\n",
    "    col_size = 20\n",
    "\n",
    "    fig = P.figure(figsize=(20, 20))\n",
    "    for idx in range(len(rand_indices)):\n",
    "        orig_idx = rand_indices[idx]\n",
    "        display_row_idx = int(idx/display_per_row) + 1\n",
    "        display_col_idx = idx%display_per_row +1\n",
    "        a=fig.add_subplot(display_row_idx, display_per_row, display_col_idx, frameon=False)\n",
    "        a.get_yaxis().set_visible(False)\n",
    "        a.get_xaxis().set_visible(False)\n",
    "        a.imshow(images[orig_idx,:,:,0].T, cmap=\"Greys_r\")\n",
    "        img_label = labels[orig_idx,:]\n",
    "        a.set_title(''.join([str(x) for x in img_label[img_label != 10]]))\n",
    "    \n",
    "    return rand_indices"
   ]
  },
  {
   "cell_type": "code",
   "execution_count": 272,
   "metadata": {
    "collapsed": false
   },
   "outputs": [
    {
     "data": {
      "text/plain": [
       "array([12615, 12438,  9049,  7491,  1907, 11572,  9589,  5561,  5292,  6609])"
      ]
     },
     "execution_count": 272,
     "metadata": {},
     "output_type": "execute_result"
    },
    {
     "data": {
      "image/png": "[encoded data removed]",
      "text/plain": [
       "<matplotlib.figure.Figure at 0x7ff420570b50>"
      ]
     },
     "metadata": {},
     "output_type": "display_data"
    },
    {
     "data": {
      "image/png": "[encoded data removed]",
      "text/plain": [
       "<matplotlib.figure.Figure at 0x7ff420558350>"
      ]
     },
     "metadata": {},
     "output_type": "display_data"
    }
   ],
   "source": [
    "# display some predictions\n",
    "chosen_images = display_images(test_images, predictions)\n",
    "# display the originals too\n",
    "display_images(test_images, test_labels[:,1:], chosen_images)"
   ]
  },
  {
   "cell_type": "code",
   "execution_count": 273,
   "metadata": {
    "collapsed": false
   },
   "outputs": [
    {
     "name": "stdout",
     "output_type": "stream",
     "text": [
      "Weighted F1:  0.883035028858\n",
      "Unweighted F1:  0.874328998364\n",
      "Classwise F1\n",
      "\tDigit: 0, f1: 0.875982042649\n",
      "\tDigit: 1, f1: 0.907848496681\n",
      "\tDigit: 2, f1: 0.911785799665\n",
      "\tDigit: 3, f1: 0.859981933153\n",
      "\tDigit: 4, f1: 0.904619076185\n",
      "\tDigit: 5, f1: 0.88799321171\n",
      "\tDigit: 6, f1: 0.849084611578\n",
      "\tDigit: 7, f1: 0.8881136307\n",
      "\tDigit: 8, f1: 0.822716346154\n",
      "\tDigit: 9, f1: 0.835164835165\n"
     ]
    }
   ],
   "source": [
    "## calculate f1 score of all 11 classes in the data\n",
    "from sklearn.metrics import f1_score\n",
    "\n",
    "## reshape the predictions and outputs\n",
    "test_labels_reshape = test_labels[:,1:6].reshape(-1,1)\n",
    "predictions_reshape = predictions.reshape(-1, 1)\n",
    "\n",
    "## Exclude the blank spaces when determining F1 scores\n",
    "actual_digit_labels = range(10)\n",
    "f1_weighted = f1_score(test_labels_reshape, predictions_reshape, actual_digit_labels, average='weighted')\n",
    "f1_unweighted = f1_score(test_labels_reshape, predictions_reshape, actual_digit_labels, average='macro')\n",
    "f1_scores  = f1_score(test_labels_reshape, predictions_reshape, actual_digit_labels, average=None)\n",
    "\n",
    "print \"Weighted F1: \", f1_weighted\n",
    "print \"Unweighted F1: \", f1_unweighted\n",
    "\n",
    "print \"Classwise F1\"\n",
    "for k,v in zip(labels, f1_scores):\n",
    "    print \"\\tDigit: {}, f1: {}\".format(k,v)"
   ]
  },
  {
   "cell_type": "code",
   "execution_count": 274,
   "metadata": {
    "collapsed": false
   },
   "outputs": [],
   "source": [
    "# check the accuracy wrt number of digits in the outcome\n",
    "predicted_lengths = get_lengths(predictions)\n",
    "\n",
    "valid_lengths = range(1,6)\n",
    "\n",
    "\n",
    "f1_l_weighted = f1_score(test_labels[:,0], predicted_lengths, valid_lengths, average='weighted')\n",
    "f1_l_unweighted = f1_score(test_labels[:,0], predicted_lengths, valid_lengths, average='macro')\n",
    "f1_l_scores  = f1_score(test_labels[:,0], predicted_lengths, valid_lengths, average=None)"
   ]
  },
  {
   "cell_type": "code",
   "execution_count": 275,
   "metadata": {
    "collapsed": false
   },
   "outputs": [
    {
     "name": "stdout",
     "output_type": "stream",
     "text": [
      "Weighted F1:  0.951981521417\n",
      "Unweighted F1:  0.735418751147\n",
      "Classwise F1\n",
      "\tDigit: 1, f1: 0.945085555113\n",
      "\tDigit: 2, f1: 0.965425692391\n",
      "\tDigit: 3, f1: 0.914123491838\n",
      "\tDigit: 4, f1: 0.852459016393\n",
      "\tDigit: 5, f1: 0.0\n"
     ]
    }
   ],
   "source": [
    "print \"Weighted F1: \", f1_l_weighted\n",
    "print \"Unweighted F1: \", f1_l_unweighted\n",
    "\n",
    "print \"Classwise F1\"\n",
    "for k,v in zip(valid_lengths, f1_l_scores):\n",
    "    print \"\\tDigit: {}, f1: {}\".format(k,v)"
   ]
  },
  {
   "cell_type": "markdown",
   "metadata": {},
   "source": [
    "This is terrible - we messed up both the examples with 5 digits in them and that messed up our overall F1 score!"
   ]
  },
  {
   "cell_type": "markdown",
   "metadata": {},
   "source": [
    "Clean up the code to make it like a sklearn model.\n",
    "\n",
    "This will enable us to use sklearn primitives."
   ]
  },
  {
   "cell_type": "markdown",
   "metadata": {},
   "source": [
    "## The Final Cut"
   ]
  },
  {
   "cell_type": "markdown",
   "metadata": {},
   "source": [
    "Create a Model class that behaves like an SKLearn class. This will help us run meaningful validations without having to change the code manually each time. We can generalize it later."
   ]
  },
  {
   "cell_type": "code",
   "execution_count": 321,
   "metadata": {
    "collapsed": false
   },
   "outputs": [],
   "source": [
    "from sklearn.base import BaseEstimator\n",
    "\n",
    "PARAM_ALPHA_NAME = 'alpha'\n",
    "PARAM_OPTIMIZER_NAME = 'optimizer'\n",
    "PARAM_OPTIMIZER_VAL_GRADIENT_DESCENT = 'GradientDescent'\n",
    "PARAM_OPTIMIZER_VAL_ADAM = 'Adam'\n",
    "\n",
    "class SVHNModel(BaseEstimator):\n",
    "    def get_params(self, deep=False):\n",
    "        \"\"\"\n",
    "            We currently support alpha and optimizer\n",
    "        \"\"\"\n",
    "        return {PARAM_ALPHA_NAME: self.alpha, PARAM_OPTIMIZER_NAME: self._opt}\n",
    "    \n",
    "    \n",
    "    def set_params(self, **d):\n",
    "        if 'optimizer' in d:\n",
    "            self.optimizer = d['optimizer']\n",
    "        if 'alpha' in d:\n",
    "            self.alpha  = d['alpha']\n",
    "\n",
    "    \n",
    "    # Model.\n",
    "    def model(self, data, is_training = False):\n",
    "        with self.graph.as_default():\n",
    "            conv = tf.nn.conv2d(data, self.layer1_weights, [1, 1, 1, 1], padding='VALID')\n",
    "            pool = tf.nn.avg_pool(conv, [1, 2, 2, 1], [1,2,2,1], padding = 'SAME')\n",
    "            hidden = tf.nn.relu(pool + self.layer1_biases)\n",
    "            shape = hidden.get_shape().as_list()\n",
    "            print shape\n",
    "\n",
    "            conv = tf.nn.conv2d(hidden, self.layer2_weights, [1, 1, 1, 1], padding='VALID')\n",
    "            pool = tf.nn.max_pool(conv, [1,2,2,1], [1,2,2,1], padding = 'SAME')\n",
    "            hidden = tf.nn.relu(pool + self.layer2_biases)\n",
    "            shape = hidden.get_shape().as_list()\n",
    "            print shape\n",
    "            \n",
    "            conv = tf.nn.conv2d(hidden, self.layer2_5_weights, [1, 1, 1, 1], padding='VALID')\n",
    "            pool = tf.nn.max_pool(conv, [1,3,3,1], [1,3,3,1], padding = 'SAME')\n",
    "            hidden = tf.nn.relu(pool + self.layer2_5_biases)\n",
    "            \n",
    "            shape = hidden.get_shape().as_list()\n",
    "            print shape\n",
    "            reshape = tf.reshape(hidden, [shape[0], shape[1] * shape[2] * shape[3]])\n",
    "            hidden1 = tf.nn.relu(tf.matmul(reshape, self.layer3_weights) + self.layer3_biases)\n",
    "            \n",
    "            if is_training:\n",
    "                hidden1  = tf.nn.dropout(hidden1, keep_prob=self._keep_prob_dropout)\n",
    "        \n",
    "            hidden = tf.nn.relu(tf.matmul(hidden1, self.layer3_5_weights) + self.layer3_5_biases)\n",
    "            if is_training:\n",
    "                hidden  = tf.nn.dropout(hidden, keep_prob=self._keep_prob_dropout)\n",
    "                \n",
    "            digit_1 = tf.matmul(hidden, self.op1_weights) + self.op1_biases\n",
    "            digit_2 = tf.matmul(hidden, self.op2_weights) + self.op2_biases\n",
    "            digit_3 = tf.matmul(hidden, self.op3_weights) + self.op3_biases\n",
    "            digit_4 = tf.matmul(hidden, self.op4_weights) + self.op4_biases\n",
    "            digit_5 = tf.matmul(hidden, self.op5_weights) + self.op5_biases\n",
    "\n",
    "            return (digit_1, digit_2, digit_3, digit_4, digit_5)\n",
    "\n",
    "    \n",
    "    def __init__(self,\n",
    "                 graph=None,\n",
    "                 session=None,\n",
    "                 verbose  = True,\n",
    "                 alpha = 0.08,\n",
    "                 decay_rate = 0.95,\n",
    "                 decay_epochs = 1,\n",
    "                 optimizer = tf.train.GradientDescentOptimizer,\n",
    "                 keep_prob_dropout = 0.99,\n",
    "                 batch_size = 64,\n",
    "                 train_epochs = 30\n",
    "                ):\n",
    "        \n",
    "        image_size=32\n",
    "        num_channels = 1\n",
    "        patch_size = 5\n",
    "        patch_size2 = 3\n",
    "        depth1 = 16\n",
    "        depth2 = 32\n",
    "        num_hidden1 = 64\n",
    "        num_hidden = num_hidden2  = 32\n",
    "        num_labels = 11\n",
    "        \n",
    "        # intialize some of these variables\n",
    "        self.verbose = verbose\n",
    "        self._alpha = alpha\n",
    "        self._opt = optimizer\n",
    "        self._decay_rate = decay_rate\n",
    "        self._decay_epochs  = decay_epochs\n",
    "        self._keep_prob_dropout = keep_prob_dropout\n",
    "        self._batch_size = batch_size\n",
    "        self._train_epochs = train_epochs\n",
    "        self._optimizer = None\n",
    "        \n",
    "        ## delve into the graph\n",
    "        self.graph = graph\n",
    "        self.session = session\n",
    "            \n",
    "        # Input data.\n",
    "        self.tf_train_dataset = tf.placeholder(\n",
    "            tf.float32, shape=(batch_size, image_size, image_size, num_channels))\n",
    "        self.tf_train_labels = tf.placeholder(tf.int32, shape=(batch_size, 6))\n",
    "        \n",
    "          # Variables.\n",
    "          # Layer 1 - convolutional layer\n",
    "        self.layer1_weights = tf.get_variable(\"conv1\",\n",
    "                                           shape = [patch_size, patch_size, num_channels, depth1],\n",
    "                                           initializer = tf.contrib.layers.xavier_initializer_conv2d()\n",
    "                                          )\n",
    "        self.layer1_biases = tf.Variable(tf.zeros([depth1]))\n",
    "\n",
    "\n",
    "        # Layer 2 - convolutional layer\n",
    "        self.layer2_weights = tf.get_variable(\"conv2\",\n",
    "                                           shape = [patch_size, patch_size, depth1, depth2],\n",
    "                                           initializer = tf.contrib.layers.xavier_initializer_conv2d()\n",
    "                                          )\n",
    "        self.layer2_biases = tf.Variable(tf.zeros([depth2]))\n",
    "\n",
    "        \n",
    "        # Layer 2.5 - convolutional layer\n",
    "        self.layer2_5_weights = tf.get_variable(\"conv2_5\",\n",
    "                                           shape = [patch_size2, patch_size2, depth2, depth3],\n",
    "                                           initializer = tf.contrib.layers.xavier_initializer_conv2d()\n",
    "                                          )\n",
    "        self.layer2_5_biases = tf.Variable(tf.zeros([depth3]))\n",
    "\n",
    "        \n",
    "          # Layer 3 - hidden layer\n",
    "        self.layer3_weights = tf.Variable(tf.truncated_normal(\n",
    "            [1 * 1 * depth3, num_hidden1], stddev=0.1))\n",
    "        self.layer3_biases = tf.Variable(tf.zeros([num_hidden1]))\n",
    "        \n",
    "        self.layer3_5_weights = tf.Variable(tf.truncated_normal(\n",
    "            [num_hidden1, num_hidden2], stddev=0.1))\n",
    "        self.layer3_5_biases = tf.Variable(tf.zeros([num_hidden2]))\n",
    "        \n",
    "\n",
    "          ## Outputs- projection for each digit\n",
    "        self.op1_weights = tf.Variable(tf.truncated_normal(\n",
    "          [num_hidden, num_labels], stddev=0.1))\n",
    "        self.op1_biases = tf.Variable(tf.constant(0.1, shape=[num_labels]))\n",
    "\n",
    "        self.op2_weights = tf.Variable(tf.truncated_normal(\n",
    "          [num_hidden, num_labels], stddev=0.1))\n",
    "        self.op2_biases = tf.Variable(tf.constant(0.1, shape=[num_labels]))\n",
    "\n",
    "        self.op3_weights = tf.Variable(tf.truncated_normal(\n",
    "              [num_hidden, num_labels], stddev=0.1))\n",
    "        self.op3_biases = tf.Variable(tf.constant(0.1, shape=[num_labels]))\n",
    "\n",
    "        self.op4_weights = tf.Variable(tf.truncated_normal(\n",
    "              [num_hidden, num_labels], stddev=0.1))\n",
    "        self.op4_biases = tf.Variable(tf.constant(0.1, shape=[num_labels]))\n",
    "\n",
    "        self.op5_weights = tf.Variable(tf.truncated_normal(\n",
    "              [num_hidden, num_labels], stddev=0.1))\n",
    "        self.op5_biases = tf.Variable(tf.constant(0.1, shape=[num_labels]))\n",
    "\n",
    "        \n",
    "          # Training computation.\n",
    "        d1, d2, d3, d4, d5 = self.model(self.tf_train_dataset, True)\n",
    "        self.loss = tf.reduce_mean(\n",
    "                tf.nn.sparse_softmax_cross_entropy_with_logits(d1, self.tf_train_labels[:,1])\n",
    "             +  tf.nn.sparse_softmax_cross_entropy_with_logits(d2, self.tf_train_labels[:,2])\n",
    "             +  tf.nn.sparse_softmax_cross_entropy_with_logits(d3, self.tf_train_labels[:,3])\n",
    "             +  tf.nn.sparse_softmax_cross_entropy_with_logits(d4, self.tf_train_labels[:,4])\n",
    "             +  tf.nn.sparse_softmax_cross_entropy_with_logits(d5, self.tf_train_labels[:,5])\n",
    "            )\n",
    "\n",
    "          # Optimizer.\n",
    "          # So confusing to track lr and alpha\n",
    "          # use lr when dealing within tf land \n",
    "          # use alpha to communicate with outside world\n",
    "        self._lr = tf.Variable(0.0, trainable = False) \n",
    "        self._new_lr = tf.placeholder(tf.float32, shape=[], name=\"new_learning_rate\")\n",
    "        self._tf_lr_update = tf.assign(self._lr, self._new_lr)\n",
    "          \n",
    "        self.optimizer = optimizer\n",
    "          #print self._optimizer #self._opt(self._lr)\n",
    "          \n",
    "          # Predictions for the training, validation, and test data.\n",
    "        self.train_prediction = tf.pack([tf.nn.softmax(d) for d in [d1, d2, d3, d4, d5]])\n",
    "\n",
    "    \n",
    "    @property\n",
    "    def alpha(self):\n",
    "        return self._alpha\n",
    "\n",
    "    @alpha.setter\n",
    "    def alpha(self, _lr):\n",
    "        ## this requires a retrain\n",
    "        ## reinit all variables, et al?\n",
    "        self.session.run(self._tf_lr_update, feed_dict={self._new_lr: _lr})\n",
    "    \n",
    "    @property\n",
    "    def optimizer(self):\n",
    "        return self._opt\n",
    "\n",
    "    @optimizer.setter\n",
    "    def optimizer(self, opt):\n",
    "        ## this requires a retrain\n",
    "        ## reinit all variables, et al?\n",
    "        self._opt = opt\n",
    "        self._optimizer = opt(self._lr).minimize(self.loss)\n",
    "\n",
    "    \n",
    "    def fit(self, train_images, train_labels):\n",
    "          \"\"\"\n",
    "            X: train_images\n",
    "            y: train_labels\n",
    "          \"\"\"\n",
    "        ## calc num steps per epoch\n",
    "          num_steps = train_labels.shape[0]/self._batch_size - 1\n",
    "        \n",
    "        # run the session\n",
    "        #with tf.Session(graph=self.graph) as session: #self.session.as_default():\n",
    "          tf.initialize_all_variables().run()\n",
    "          if self.verbose:\n",
    "              print('Initialized variables, fitting data')\n",
    "            \n",
    "          for epoch_id in range(self._train_epochs):\n",
    "            lr_decay = self._decay_rate ** (epoch_id/self._decay_epochs)\n",
    "            lr_rate = self._alpha * lr_decay\n",
    "            self.alpha = lr_rate\n",
    "              \n",
    "            for step in range(num_steps):\n",
    "                offset = (step * self._batch_size) % (train_labels.shape[0] - self._batch_size)\n",
    "                batch_data = train_images[offset:(offset + batch_size), :, :, :]\n",
    "                batch_labels = train_labels[offset:(offset + batch_size)]\n",
    "                feed_dict = {self.tf_train_dataset : batch_data, self.tf_train_labels : batch_labels}\n",
    "                _, l, predictions = self.session.run(\n",
    "                  [self._optimizer, self.loss, self.train_prediction], feed_dict=feed_dict)\n",
    "                if self.verbose and (step % 2500 == 0):\n",
    "                  print('Minibatch loss at epoch: %d, step %d: %f' % (epoch_id, step, l))\n",
    "                  print('Minibatch F1: %0.3f' % self.measure_score(batch_labels[:,1:6], np.argmax(predictions, 2).T))\n",
    "\n",
    "\n",
    "    def predict(self, test_images):\n",
    "        test_dataset = tf.constant(test_images)\n",
    "        test_model  = self.model(test_dataset)\n",
    "        test_prediction = tf.pack([tf.nn.softmax(test_model[idx]) for idx in range(5)])\n",
    "        predicted_labels = self.session.run(test_prediction)\n",
    "        return np.argmax(predicted_labels,2).T\n",
    "    \n",
    "    def measure_score(self, true_labels, predicted_labels, average = 'weighted'):\n",
    "        ## reshape the labels \n",
    "        predicted_labels_1d = predicted_labels.reshape(-1,1)\n",
    "        true_labels_1d = true_labels.reshape(-1,1)\n",
    "        return f1_score(true_labels_1d, predicted_labels_1d, labels=range(11), average=average)\n",
    "    \n",
    "    def score(self, test_images, test_labels, average = 'weighted'):\n",
    "        predicted_labels = self.predict(test_images)\n",
    "        return self.measure_score(test_labels, predicted_labels, average)\n",
    "        "
   ]
  },
  {
   "cell_type": "code",
   "execution_count": 322,
   "metadata": {
    "collapsed": false
   },
   "outputs": [
    {
     "name": "stdout",
     "output_type": "stream",
     "text": [
      "[64, 14, 14, 16]\n",
      "[64, 5, 5, 32]\n",
      "[64, 1, 1, 64]\n",
      "Initialized variables, fitting data\n",
      "Minibatch loss at epoch: 0, step 0: 12.010099\n",
      "Minibatch F1: 0.019\n",
      "Minibatch loss at epoch: 0, step 2500: 2.868559\n",
      "Minibatch F1: 0.835\n",
      "[13068, 14, 14, 16]\n",
      "[13068, 5, 5, 32]\n",
      "[13068, 1, 1, 64]\n",
      "0.885867093636\n"
     ]
    }
   ],
   "source": [
    "## With that out of the way, our code should be pretty concise now!\n",
    "graph = tf.Graph()\n",
    "with graph.as_default(), tf.Session() as session:\n",
    "    svhn_model = SVHNModel(graph, session, train_epochs=1)\n",
    "    svhn_model.fit(train_images, train_labels)\n",
    "    f1 = svhn_model.score(test_images, test_labels[:,1:6])\n",
    "    print f1"
   ]
  },
  {
   "cell_type": "markdown",
   "metadata": {},
   "source": [
    "**Note: The bits above worked. Sadly, GridSearchCV does a deep copy for some reason which will not sit well with what we are trying. Write the validation code manually**"
   ]
  },
  {
   "cell_type": "code",
   "execution_count": 283,
   "metadata": {
    "collapsed": false
   },
   "outputs": [],
   "source": [
    "from sklearn.grid_search import GridSearchCV\n",
    "## TODO: GridSearchCV needs objects to be deep-copyable -> in a rather brutish way\n",
    "## so, let's soldier on with what we have and implement grid search cv ourselves\n",
    "\n",
    "from itertools import product\n",
    "hyperparams = {\n",
    "                    PARAM_ALPHA_NAME: [0.08, 0.12, 0.15],\n",
    "                    PARAM_OPTIMIZER_NAME: [tf.train.GradientDescentOptimizer, tf.train.AdadeltaOptimizer]\n",
    "              }\n",
    "\n",
    "params_to_try = hyperparams.keys()"
   ]
  },
  {
   "cell_type": "markdown",
   "metadata": {},
   "source": [
    "Rather ironic that while looking for possible solutions to the problem of using GridSearch along with Tensorflow, i found skflow and that skflow has been included in the TensorFlow library already. It would have saved a whole lot of time and effort to use it from the beginning."
   ]
  },
  {
   "cell_type": "code",
   "execution_count": 247,
   "metadata": {
    "collapsed": false
   },
   "outputs": [],
   "source": [
    "## generate the possible combinations as a cartesian product of the hyperparams\n",
    "possible_combinations = product(hyperparams[PARAM_ALPHA_NAME], hyperparams[PARAM_OPTIMIZER_NAME])\n",
    "results = {}\n",
    "for combination in possible_combinations:\n",
    "    ## reformulate the product as a dictionary\n",
    "    kw_args = dict(zip(params_to_try, combination))\n",
    "    \n",
    "    ## create and run the model\n",
    "    graph = tf.Graph()\n",
    "    with graph.as_default(), tf.Session() as session:\n",
    "        svhn_model = SVHNModel(graph, session, train_epochs=10, verbose=False, **kw_args)\n",
    "        svhn_model.fit(train_images, train_labels)\n",
    "        score = svhn_model.score(valid_images, valid_labels[:,1:6])\n",
    "        results[score] = kw_args"
   ]
  },
  {
   "cell_type": "code",
   "execution_count": 248,
   "metadata": {
    "collapsed": false
   },
   "outputs": [
    {
     "name": "stdout",
     "output_type": "stream",
     "text": [
      "0.924602143787 {'alpha': 0.08, 'optimizer': <class 'tensorflow.python.training.gradient_descent.GradientDescentOptimizer'>}\n"
     ]
    }
   ],
   "source": [
    "#print results\n",
    "best_result = sorted(results.keys())[-1]\n",
    "print best_result, results[best_result]"
   ]
  },
  {
   "cell_type": "code",
   "execution_count": 323,
   "metadata": {
    "collapsed": false
   },
   "outputs": [
    {
     "name": "stdout",
     "output_type": "stream",
     "text": [
      "[64, 14, 14, 16]\n",
      "[64, 5, 5, 32]\n",
      "[64, 1, 1, 64]\n",
      "[13068, 14, 14, 16]\n",
      "[13068, 5, 5, 32]\n",
      "[13068, 1, 1, 64]\n",
      "0.949857968853\n",
      "[ 0.88447133  0.91287842  0.91132827  0.86595492  0.91266376  0.88592027\n",
      "  0.84958005  0.88494703  0.84934829  0.851875    0.99063754]\n",
      "0.890873170244\n"
     ]
    }
   ],
   "source": [
    "# create an SVHN model with the params we found and use this on the test set\n",
    "graph = tf.Graph()\n",
    "with graph.as_default(), tf.Session() as session:\n",
    "    best_svhn_model = SVHNModel(graph, session, train_epochs=50, verbose=False, **results[best_result])\n",
    "    best_svhn_model.fit(train_images, train_labels)\n",
    "    predicted_labels = best_svhn_model.predict(test_images)\n",
    "    print best_svhn_model.measure_score(test_labels[:,1:6], predicted_labels)\n",
    "    print best_svhn_model.measure_score(test_labels[:,1:6], predicted_labels, average=None)\n",
    "    print best_svhn_model.measure_score(test_labels[:,1:6], predicted_labels, average = 'macro')"
   ]
  },
  {
   "cell_type": "code",
   "execution_count": 324,
   "metadata": {
    "collapsed": false
   },
   "outputs": [
    {
     "name": "stdout",
     "output_type": "stream",
     "text": [
      "81.0988674625\n"
     ]
    }
   ],
   "source": [
    "print whole_string_accuracy(predicted_labels, test_labels[:,1:6])"
   ]
  },
  {
   "cell_type": "code",
   "execution_count": 255,
   "metadata": {
    "collapsed": true
   },
   "outputs": [],
   "source": [
    "def predict_accuracy(predictions, labels):\n",
    "    \"\"\"\n",
    "        How many places did we get right?\n",
    "        Check all the positions where the prediction matches the label, add the results and \n",
    "        divide by total size\n",
    "    \"\"\"\n",
    "    return (100.0 * np.sum(predictions == labels)) / labels.size"
   ]
  },
  {
   "cell_type": "code",
   "execution_count": 325,
   "metadata": {
    "collapsed": false
   },
   "outputs": [
    {
     "name": "stdout",
     "output_type": "stream",
     "text": [
      "94.9770431589\n"
     ]
    }
   ],
   "source": [
    "print predict_accuracy(predicted_labels, test_labels[:,1:6])"
   ]
  },
  {
   "cell_type": "code",
   "execution_count": 334,
   "metadata": {
    "collapsed": false
   },
   "outputs": [
    {
     "name": "stdout",
     "output_type": "stream",
     "text": [
      "0.888281319201\n",
      "[ 0.88447133  0.91287842  0.91132827  0.86595492  0.91266376  0.88592027\n",
      "  0.84958005  0.88494703  0.84934829  0.851875  ]\n",
      "0.880896733367\n"
     ]
    }
   ],
   "source": [
    "## remove the blanks for the f1\n",
    "## reshape the labels \n",
    "predicted_labels_1d = predicted_labels.reshape(-1,1)\n",
    "true_labels_1d = test_labels[:,1:6].reshape(-1,1)\n",
    "print f1_score(true_labels_1d, predicted_labels_1d, labels=range(10), average='weighted')\n",
    "print f1_score(true_labels_1d, predicted_labels_1d, labels=range(10), average=None)\n",
    "print f1_score(true_labels_1d, predicted_labels_1d, labels=range(10), average='macro')"
   ]
  }
 ],
 "metadata": {
  "kernelspec": {
   "display_name": "Python [Root]",
   "language": "python",
   "name": "Python [Root]"
  },
  "language_info": {
   "codemirror_mode": {
    "name": "ipython",
    "version": 2
   },
   "file_extension": ".py",
   "mimetype": "text/x-python",
   "name": "python",
   "nbconvert_exporter": "python",
   "pygments_lexer": "ipython2",
   "version": "2.7.12"
  }
 },
 "nbformat": 4,
 "nbformat_minor": 0
}
