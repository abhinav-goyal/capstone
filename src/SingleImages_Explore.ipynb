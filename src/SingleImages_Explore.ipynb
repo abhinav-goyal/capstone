{
 "cells": [
  {
   "cell_type": "code",
   "execution_count": 1,
   "metadata": {
    "collapsed": false
   },
   "outputs": [
    {
     "data": {
      "text/plain": [
       "'\\n    File containing further exploration of the single images data set beyond that done in SingleImages.ipynb\\n    \\n    Note: this file uses the pickle files saved in SingleImages.ipynb and hence that needs to be run first.\\n'"
      ]
     },
     "execution_count": 1,
     "metadata": {},
     "output_type": "execute_result"
    }
   ],
   "source": [
    "\"\"\"\n",
    "    File containing further exploration of the single images data set beyond that done in SingleImages.ipynb\n",
    "    \n",
    "    Note: this file uses the pickle files saved in SingleImages.ipynb and hence that needs to be run first.\n",
    "\"\"\""
   ]
  },
  {
   "cell_type": "code",
   "execution_count": 2,
   "metadata": {
    "collapsed": true
   },
   "outputs": [],
   "source": [
    "### import the required libraries\n",
    "\n",
    "import numpy as np\n",
    "import scipy.ndimage as ndimage\n",
    "import scipy.io as sio\n",
    "import tensorflow as tf\n",
    "import matplotlib.pyplot as plt\n",
    "%matplotlib inline\n",
    "import math\n",
    "import os\n",
    "import pylab as P\n",
    "import skimage\n",
    "from sklearn.cross_validation import train_test_split as ttsplit\n",
    "import cPickle as pickle"
   ]
  },
  {
   "cell_type": "code",
   "execution_count": 16,
   "metadata": {
    "collapsed": true
   },
   "outputs": [],
   "source": [
    "\n",
    "## seed the library so we get consistent results each time\n",
    "tf.set_random_seed(1234)\n"
   ]
  },
  {
   "cell_type": "code",
   "execution_count": 3,
   "metadata": {
    "collapsed": true
   },
   "outputs": [],
   "source": [
    "# helper function to read a pickle file\n",
    "# TODO: move this to helpers file\n",
    "def read_pickle_file(f_name):\n",
    "    f = open(f_name, 'r')\n",
    "    return pickle.load(f)\n",
    "\n"
   ]
  },
  {
   "cell_type": "code",
   "execution_count": 4,
   "metadata": {
    "collapsed": false
   },
   "outputs": [
    {
     "name": "stdout",
     "output_type": "stream",
     "text": [
      "/home/ag/projects/ml_nanodegree/repo/capstone/src\n",
      "/home/ag/projects/ml_nanodegree/repo/capstone/data\n"
     ]
    }
   ],
   "source": [
    "## the data dir is at the same level as the src dir in the repo\n",
    "print os.getcwd()\n",
    "data_dir = os.path.join(os.path.split(os.getcwd())[0], 'data')\n",
    "print data_dir\n",
    "\n",
    "def get_data_path(f_name):\n",
    "    return os.path.join(data_dir, f_name)"
   ]
  },
  {
   "cell_type": "code",
   "execution_count": 5,
   "metadata": {
    "collapsed": false
   },
   "outputs": [],
   "source": [
    "## read all the files off the disk \n",
    "\n",
    "file_list = [\n",
    "    'train_single_data.pkl',\n",
    "    'train_single_labels.pkl',\n",
    "    'valid_single_data.pkl',\n",
    "    'valid_single_labels.pkl',\n",
    "    'test_single_data.pkl',\n",
    "    'test_single_labels.pkl',\n",
    "]\n",
    "\n",
    "\n",
    "train_images, train_labels, valid_images, valid_labels, test_images, test_labels  = \\\n",
    "    [read_pickle_file(get_data_path(f_name)) for f_name in file_list]\n"
   ]
  },
  {
   "cell_type": "code",
   "execution_count": 75,
   "metadata": {
    "collapsed": true
   },
   "outputs": [],
   "source": [
    "## make sure that the labels are what we think they are\n",
    "label_set = set(train_labels)\n",
    "assert(len(label_set) == 10)\n",
    "num_labels = len(label_set)\n",
    "labels = range(10)\n",
    "assert(len(label_set.difference(set(labels))) == 0)"
   ]
  },
  {
   "cell_type": "code",
   "execution_count": 76,
   "metadata": {
    "collapsed": true
   },
   "outputs": [],
   "source": [
    "## check the frequency of the labels in the various sets and plot it\n",
    "## we should have done this at the outset, damnit!\n",
    "def plot_label_data(x,y, name, x_label, y_label, width=1./3, color='blue'):\n",
    "    plt.bar(x, y, width = width, color = color)\n",
    "    plt.title(name)\n",
    "    plt.xlabel(x_label)\n",
    "    plt.ylabel(y_label)\n",
    "    plt.show()\n",
    "    \n",
    "\n",
    "\n",
    "def plot_label_distribution(label_data, name):\n",
    "    \n",
    "    sizes = np.array([len(np.where(label_data==l)[0]) for l in labels], dtype=np.float32)\n",
    "    print sizes/sum(sizes)\n",
    "    plot_label_data(labels, sizes, name, 'Digits', 'Frequency')\n",
    "        \n"
   ]
  },
  {
   "cell_type": "code",
   "execution_count": 77,
   "metadata": {
    "collapsed": false
   },
   "outputs": [
    {
     "name": "stdout",
     "output_type": "stream",
     "text": [
      "[ 0.08377638  0.17249919  0.14111291  0.11461081  0.09597589  0.10001716\n",
      "  0.07825455  0.08214439  0.06688449  0.06472421]\n"
     ]
    },
    {
     "data": {
      "image/png": "[encoded data removed]",
      "text/plain": [
       "<matplotlib.figure.Figure at 0x7f6a0073a890>"
      ]
     },
     "metadata": {},
     "output_type": "display_data"
    },
    {
     "name": "stdout",
     "output_type": "stream",
     "text": [
      "[ 0.07002605  0.18883991  0.14496092  0.11380485  0.10458826  0.09236626\n",
      "  0.07974354  0.07643759  0.06481667  0.06441595]\n"
     ]
    },
    {
     "data": {
      "image/png": "[encoded data removed]",
      "text/plain": [
       "<matplotlib.figure.Figure at 0x7f6a8507fcd0>"
      ]
     },
     "metadata": {},
     "output_type": "display_data"
    },
    {
     "name": "stdout",
     "output_type": "stream",
     "text": [
      "[ 0.06699447  0.1958743   0.15938076  0.1107099   0.09691918  0.09157959\n",
      "  0.07594499  0.07755839  0.06376767  0.06127074]\n"
     ]
    },
    {
     "data": {
      "image/png": "[encoded data removed]",
      "text/plain": [
       "<matplotlib.figure.Figure at 0x7f6a85ae6650>"
      ]
     },
     "metadata": {},
     "output_type": "display_data"
    }
   ],
   "source": [
    "plot_label_distribution(train_labels, 'Training Digits')\n",
    "plot_label_distribution(valid_labels, 'Validation Digits')\n",
    "plot_label_distribution(test_labels, 'Test Digits')\n"
   ]
  },
  {
   "cell_type": "code",
   "execution_count": 35,
   "metadata": {
    "collapsed": false
   },
   "outputs": [
    {
     "data": {
      "image/png": "[encoded data removed]",
      "text/plain": [
       "<matplotlib.figure.Figure at 0x7f6a40225bd0>"
      ]
     },
     "metadata": {},
     "output_type": "display_data"
    }
   ],
   "source": [
    "## display some images from the train set\n",
    "display_size = 10\n",
    "rand_indices = np.random.randint(0, train_images.shape[0], display_size)\n",
    "\n",
    "fig = P.figure(figsize=(20, 20))\n",
    "for idx in range(trial_set.shape[0]):\n",
    "    a=fig.add_subplot(1,display_size,idx+1)\n",
    "    P.imshow(train_images[rand_indices[idx],:,:, 0], cmap='Greys_r')  ## note that the image id has moved to leftmost\n",
    "    a.set_title(str(train_labels[rand_indices[idx]]))"
   ]
  },
  {
   "cell_type": "code",
   "execution_count": 9,
   "metadata": {
    "collapsed": true
   },
   "outputs": [],
   "source": [
    "## always start a model with what you are going to measure it by\n",
    "def accuracy(predictions, labels):\n",
    "  assert(predictions.shape[0] == len(labels))\n",
    "  return (100.0 * np.sum(np.argmax(predictions, 1) == labels)\n",
    "          / predictions.shape[0])"
   ]
  },
  {
   "cell_type": "code",
   "execution_count": 10,
   "metadata": {
    "collapsed": false
   },
   "outputs": [],
   "source": [
    "## prepare the tf graph\n",
    "\n",
    "batch_size = 16\n",
    "keep_prob_dropout = .95\n",
    "\n",
    "## we have images of batch_size x 32 x 32 x 1\n",
    "image_size = 32\n",
    "image_initial_depth  = 1\n",
    "num_channels = 1\n",
    "\n",
    "## we will extract 5x5 patches at each stage\n",
    "patch_size = 5\n",
    "depth = 16\n",
    "\n",
    "## num of nodes in the hidden layer (fully connected neural network)\n",
    "num_hidden = 64\n",
    "\n",
    "\n",
    "## create a graph\n",
    "graph = tf.Graph()\n",
    "with graph.as_default():\n",
    "\n",
    "  # Input data.\n",
    "  tf_train_dataset = tf.placeholder(\n",
    "    tf.float32, shape=(batch_size, image_size, image_size, num_channels))\n",
    "  tf_train_labels = tf.placeholder(tf.int32, shape=(batch_size))\n",
    "  tf_valid_dataset = tf.constant(valid_images)\n",
    "  tf_test_dataset = tf.constant(test_images)\n",
    "  \n",
    "  # Variables that will be optimised using backprop\n",
    "  layer1_weights = tf.Variable(tf.truncated_normal(\n",
    "      [patch_size, patch_size, num_channels, depth], stddev=0.1)) ## 5 x 5 x 1 x 16 -> 28 x 28 x 1 x 16\n",
    "  layer1_biases = tf.Variable(tf.zeros([depth]))\n",
    "\n",
    "  layer2_weights = tf.Variable(tf.truncated_normal(\n",
    "      [patch_size, patch_size, depth, depth], stddev=0.12))       ## 5 x 5 x 16 x 16 -> 24 x 24 x 16 x 16\n",
    "  layer2_biases = tf.Variable(tf.zeros([depth]))\n",
    "\n",
    "  ## Hidden Layer\n",
    "  layer3_weights = tf.Variable(tf.truncated_normal(\n",
    "      #[image_size // 4 * image_size // 4 * depth, num_hidden], stddev=0.1)) \n",
    "    [patch_size * patch_size * depth, num_hidden], stddev=0.12)) \n",
    "  layer3_biases = tf.Variable(tf.zeros([num_hidden]))\n",
    "  #layer3_biases = tf.Variable(tf.constant(1.0, shape=[num_hidden]))\n",
    "\n",
    "  ## Projection Layer\n",
    "  layer4_weights = tf.Variable(tf.truncated_normal(\n",
    "      [num_hidden, num_labels], stddev=0.12))\n",
    "  layer4_biases = tf.Variable(tf.constant(0.01, shape=[num_labels]))\n",
    "  \n",
    "  # Model.\n",
    "  def model(data, is_training = False):\n",
    "    \"\"\"\n",
    "        The model is as follows \n",
    "        \n",
    "        Input -> Conv\n",
    "        Conv -> Pooling\n",
    "        Pooling -> ReLU\n",
    "        ReLU -> Conv\n",
    "        Conv -> Pooling\n",
    "        Pooling -> ReLU\n",
    "        \n",
    "        At this stage, we will move to a fully connected neural net\n",
    "        1 hidden layer followed by a projection layer and softmax (output)\n",
    "        \n",
    "    \"\"\"\n",
    "    \n",
    "    # conv the first layer\n",
    "    #conv0 = tf.nn.conv2d(data, layer0_weights, [1, 1, 1, 1], padding='VALID')\n",
    "\n",
    "    conv = tf.nn.conv2d(data, layer1_weights, [1, 1, 1, 1], padding='VALID')\n",
    "    pool = tf.nn.avg_pool(conv, [1, 4, 4, 1], [1,2,2,1], padding = 'SAME')\n",
    "    #conv = tf.nn.conv2d(data, layer1_weights, [1, 1, 1, 1], padding='SAME')\n",
    "    #pool = tf.nn.avg_pool(conv, [1, 4, 4, 1], [1,2,2,1], padding = 'VALID')\n",
    "    hidden = tf.nn.relu(pool + layer1_biases)\n",
    "    \n",
    "    conv = tf.nn.conv2d(hidden, layer2_weights, [1, 2, 2, 1], padding='VALID')\n",
    "    pool = tf.nn.max_pool(conv, [1,1,1,1], [1,1,1,1], padding = 'SAME')\n",
    "    hidden = tf.nn.relu(pool + layer2_biases)\n",
    "    \n",
    "    shape = hidden.get_shape().as_list()\n",
    "    reshape = tf.reshape(hidden, [shape[0], shape[1] * shape[2] * shape[3]])\n",
    "    hidden = tf.nn.relu(tf.matmul(reshape, layer3_weights) + layer3_biases)\n",
    "    \n",
    "    ## apply dropout\n",
    "    if is_training:\n",
    "        hidden  = tf.nn.dropout(hidden, keep_prob=keep_prob_dropout)\n",
    "        \n",
    "    return tf.matmul(hidden, layer4_weights) + layer4_biases\n",
    "  \n",
    "  # Training computation.\n",
    "  logits = model(tf_train_dataset, True)\n",
    "  loss = tf.reduce_mean(\n",
    "    tf.nn.sparse_softmax_cross_entropy_with_logits(logits, tf_train_labels))\n",
    "    \n",
    "  # Optimizer.\n",
    "  global_step = tf.Variable(0)  # count the number of steps taken.\n",
    "    \n",
    "  # params for exponential_decay API\n",
    "  # https://www.tensorflow.org/versions/r0.7/api_docs/python/train.html#exponential_decay\n",
    "  # values for learning_rate [0.05, 0.15, 0.2, 0.25, 0.5]\n",
    "\n",
    "  learning_rate = tf.train.exponential_decay(0.15, global_step, 1000, 0.95)\n",
    "  optimizer = tf.train.GradientDescentOptimizer(learning_rate).minimize(loss, global_step=global_step)\n",
    "  #optimizer = tf.train.AdagradOptimizer(learning_rate).minimize(loss, global_step=global_step)\n",
    "\n",
    "  # Predictions for the training, validation, and test data.\n",
    "  train_prediction = tf.nn.softmax(logits)\n",
    "  valid_prediction = tf.nn.softmax(model(tf_valid_dataset))\n",
    "  test_prediction = tf.nn.softmax(model(tf_test_dataset))"
   ]
  },
  {
   "cell_type": "code",
   "execution_count": 11,
   "metadata": {
    "collapsed": false
   },
   "outputs": [
    {
     "name": "stdout",
     "output_type": "stream",
     "text": [
      "Initialized\n",
      "Minibatch loss at step 0: 2.406237\n",
      "Minibatch accuracy: 18.8%\n",
      "Validation accuracy: 10.5%\n",
      "Minibatch loss at step 2500: 0.346792\n",
      "Minibatch accuracy: 87.5%\n",
      "Validation accuracy: 74.7%\n",
      "Minibatch loss at step 5000: 0.786406\n",
      "Minibatch accuracy: 81.2%\n",
      "Validation accuracy: 80.5%\n",
      "Minibatch loss at step 7500: 0.728756\n",
      "Minibatch accuracy: 81.2%\n",
      "Validation accuracy: 80.5%\n",
      "Minibatch loss at step 10000: 0.237022\n",
      "Minibatch accuracy: 93.8%\n",
      "Validation accuracy: 83.8%\n",
      "Minibatch loss at step 12500: 1.429365\n",
      "Minibatch accuracy: 81.2%\n",
      "Validation accuracy: 82.7%\n",
      "Minibatch loss at step 15000: 0.306451\n",
      "Minibatch accuracy: 93.8%\n",
      "Validation accuracy: 84.9%\n",
      "Minibatch loss at step 17500: 0.479263\n",
      "Minibatch accuracy: 81.2%\n",
      "Validation accuracy: 85.7%\n",
      "Minibatch loss at step 20000: 0.191552\n",
      "Minibatch accuracy: 93.8%\n",
      "Validation accuracy: 86.6%\n",
      "Minibatch loss at step 22500: 0.431889\n",
      "Minibatch accuracy: 87.5%\n",
      "Validation accuracy: 86.6%\n",
      "Minibatch loss at step 25000: 0.155853\n",
      "Minibatch accuracy: 93.8%\n",
      "Validation accuracy: 87.7%\n",
      "Minibatch loss at step 27500: 0.192130\n",
      "Minibatch accuracy: 93.8%\n",
      "Validation accuracy: 87.8%\n",
      "Minibatch loss at step 30000: 0.574718\n",
      "Minibatch accuracy: 75.0%\n",
      "Validation accuracy: 86.8%\n",
      "Minibatch loss at step 32500: 0.186244\n",
      "Minibatch accuracy: 100.0%\n",
      "Validation accuracy: 88.7%\n",
      "Minibatch loss at step 35000: 0.272130\n",
      "Minibatch accuracy: 87.5%\n",
      "Validation accuracy: 87.1%\n",
      "Minibatch loss at step 37500: 0.268389\n",
      "Minibatch accuracy: 93.8%\n",
      "Validation accuracy: 89.3%\n",
      "Minibatch loss at step 40000: 0.685790\n",
      "Minibatch accuracy: 87.5%\n",
      "Validation accuracy: 88.5%\n",
      "Minibatch loss at step 42500: 0.493000\n",
      "Minibatch accuracy: 81.2%\n",
      "Validation accuracy: 89.1%\n",
      "Minibatch loss at step 45000: 0.324654\n",
      "Minibatch accuracy: 93.8%\n",
      "Validation accuracy: 89.1%\n",
      "Minibatch loss at step 47500: 0.063399\n",
      "Minibatch accuracy: 100.0%\n",
      "Validation accuracy: 89.4%\n",
      "Minibatch loss at step 50000: 0.513073\n",
      "Minibatch accuracy: 75.0%\n",
      "Validation accuracy: 89.4%\n",
      "Minibatch loss at step 52500: 0.752274\n",
      "Minibatch accuracy: 81.2%\n",
      "Validation accuracy: 89.4%\n",
      "Minibatch loss at step 55000: 0.159479\n",
      "Minibatch accuracy: 93.8%\n",
      "Validation accuracy: 89.9%\n",
      "Minibatch loss at step 57500: 0.039207\n",
      "Minibatch accuracy: 100.0%\n",
      "Validation accuracy: 89.7%\n",
      "Minibatch loss at step 60000: 0.111211\n",
      "Minibatch accuracy: 93.8%\n",
      "Validation accuracy: 90.0%\n",
      "Minibatch loss at step 62500: 0.537919\n",
      "Minibatch accuracy: 87.5%\n",
      "Validation accuracy: 89.7%\n",
      "Minibatch loss at step 65000: 0.034351\n",
      "Minibatch accuracy: 100.0%\n",
      "Validation accuracy: 89.9%\n",
      "Minibatch loss at step 67500: 0.296998\n",
      "Minibatch accuracy: 87.5%\n",
      "Validation accuracy: 90.1%\n",
      "Minibatch loss at step 70000: 0.031722\n",
      "Minibatch accuracy: 100.0%\n",
      "Validation accuracy: 90.0%\n",
      "Minibatch loss at step 72500: 0.148405\n",
      "Minibatch accuracy: 93.8%\n",
      "Validation accuracy: 90.1%\n",
      "Minibatch loss at step 75000: 0.263758\n",
      "Minibatch accuracy: 87.5%\n",
      "Validation accuracy: 90.2%\n",
      "Minibatch loss at step 77500: 0.203288\n",
      "Minibatch accuracy: 93.8%\n",
      "Validation accuracy: 90.0%\n",
      "Minibatch loss at step 80000: 0.066875\n",
      "Minibatch accuracy: 100.0%\n",
      "Validation accuracy: 90.2%\n",
      "Minibatch loss at step 82500: 0.103807\n",
      "Minibatch accuracy: 100.0%\n",
      "Validation accuracy: 90.2%\n",
      "Minibatch loss at step 85000: 0.129845\n",
      "Minibatch accuracy: 93.8%\n",
      "Validation accuracy: 90.1%\n",
      "Minibatch loss at step 87500: 0.214650\n",
      "Minibatch accuracy: 93.8%\n",
      "Validation accuracy: 90.2%\n",
      "Minibatch loss at step 90000: 0.012214\n",
      "Minibatch accuracy: 100.0%\n",
      "Validation accuracy: 90.1%\n",
      "Minibatch loss at step 92500: 0.606428\n",
      "Minibatch accuracy: 75.0%\n",
      "Validation accuracy: 90.1%\n",
      "Minibatch loss at step 95000: 0.352312\n",
      "Minibatch accuracy: 81.2%\n",
      "Validation accuracy: 90.1%\n",
      "Minibatch loss at step 97500: 0.123457\n",
      "Minibatch accuracy: 93.8%\n",
      "Validation accuracy: 90.2%\n",
      "Minibatch loss at step 100000: 0.056246\n",
      "Minibatch accuracy: 100.0%\n",
      "Validation accuracy: 90.2%\n",
      "Test accuracy: 89.5%\n"
     ]
    }
   ],
   "source": [
    "num_steps = 100001\n",
    "\n",
    "with tf.Session(graph=graph) as session:\n",
    "  tf.initialize_all_variables().run()\n",
    "  print('Initialized')\n",
    "  for step in range(num_steps):\n",
    "    offset = (step * batch_size) % (train_labels.shape[0] - batch_size)\n",
    "    batch_data = train_images[offset:(offset + batch_size), :, :, :]\n",
    "    batch_labels = train_labels[offset:(offset + batch_size)]\n",
    "    feed_dict = {tf_train_dataset : batch_data, tf_train_labels : batch_labels}\n",
    "    _, l, predictions = session.run(\n",
    "      [optimizer, loss, train_prediction], feed_dict=feed_dict)\n",
    "    if (step % 2500 == 0):\n",
    "      print('Minibatch loss at step %d: %f' % (step, l))\n",
    "      print('Minibatch accuracy: %.1f%%' % accuracy(predictions, batch_labels))\n",
    "      print('Validation accuracy: %.1f%%' % accuracy(\n",
    "        valid_prediction.eval(), valid_labels))\n",
    "  final_predictions = test_prediction.eval()\n",
    "  print('Test accuracy: %.1f%%' % accuracy(final_predictions, test_labels))"
   ]
  },
  {
   "cell_type": "markdown",
   "metadata": {},
   "source": [
    "## Deeper"
   ]
  },
  {
   "cell_type": "markdown",
   "metadata": {},
   "source": [
    "Now, we attempt to go deeper. The changes are as follows \n",
    "\n",
    "- Instead of a depth of 16, we will now reach a depth of 32 in the last layer\n",
    "- We use the xavier initialization for conv2d for the conv matrices\n",
    "- Since we now have our GPU working fine again, we use a batch size of 64 to speed up the process\n",
    "- We decrease the dropout since we are increasing the number of epochs 4 times\n"
   ]
  },
  {
   "cell_type": "code",
   "execution_count": 17,
   "metadata": {
    "collapsed": false
   },
   "outputs": [],
   "source": [
    "batch_size = 64\n",
    "keep_prob_dropout = 0.99\n",
    "\n",
    "# start with\n",
    "image_size = 32\n",
    "num_channels = 1\n",
    "\n",
    "# convolve layers\n",
    "patch_size = 5\n",
    "depth1 = 16\n",
    "depth2 = 32\n",
    "\n",
    "## FCN\n",
    "num_hidden = 64\n",
    "num_labels = 10\n",
    "\n",
    "graph = tf.Graph()\n",
    "\n",
    "with graph.as_default():\n",
    "\n",
    "  # Input data.\n",
    "  tf_train_dataset = tf.placeholder(\n",
    "    tf.float32, shape=(batch_size, image_size, image_size, num_channels))\n",
    "  tf_train_labels = tf.placeholder(tf.int32, shape=(batch_size))\n",
    "  tf_valid_dataset = tf.constant(valid_images)\n",
    "  tf_test_dataset = tf.constant(test_images)\n",
    "  \n",
    "  # Variables.\n",
    "  layer1_weights = tf.get_variable(\"conv1\",\n",
    "                                   shape = [patch_size, patch_size, num_channels, depth1],\n",
    "                                   initializer = tf.contrib.layers.xavier_initializer_conv2d()\n",
    "                                  )\n",
    "  layer1_biases = tf.Variable(tf.zeros([depth1]))\n",
    "  \n",
    "\n",
    "  layer2_weights = tf.get_variable(\"conv2\",\n",
    "                                   shape = [patch_size, patch_size, depth1, depth2],\n",
    "                                   initializer = tf.contrib.layers.xavier_initializer_conv2d()\n",
    "                                  )\n",
    "  layer2_biases = tf.Variable(tf.zeros([depth2]))\n",
    "\n",
    "  layer3_weights = tf.Variable(tf.truncated_normal(\n",
    "      #[image_size // 4 * image_size // 4 * depth, num_hidden], stddev=0.1)) \n",
    "    [patch_size * patch_size * depth2, num_hidden], stddev=0.1)) \n",
    "  layer3_biases = tf.Variable(tf.zeros([num_hidden]))\n",
    "\n",
    "  ## create 5 predictors here for the five places\n",
    "  \n",
    "  op_weights = tf.Variable(tf.truncated_normal(\n",
    "      [num_hidden, num_labels], stddev=0.1))\n",
    "  op_biases = tf.Variable(tf.constant(0.1, shape=[num_labels]))\n",
    "\n",
    "  # Model.\n",
    "  def model(data, is_training = False):\n",
    "    conv = tf.nn.conv2d(data, layer1_weights, [1, 1, 1, 1], padding='VALID') # -> 28x28x1x16\n",
    "    pool = tf.nn.max_pool(conv, [1, 2, 2, 1], [1,2,2,1], padding = 'SAME') ## \n",
    "    hidden = tf.nn.relu(pool + layer1_biases)\n",
    "    \n",
    "    conv = tf.nn.conv2d(hidden, layer2_weights, [1, 1, 1, 1], padding='VALID')\n",
    "    pool = tf.nn.max_pool(conv, [1,2,2,1], [1,2,2,1], padding = 'SAME')\n",
    "    hidden = tf.nn.relu(pool + layer2_biases)\n",
    "    \n",
    "    shape = hidden.get_shape().as_list()\n",
    "    reshape = tf.reshape(hidden, [shape[0], shape[1] * shape[2] * shape[3]])\n",
    "    hidden = tf.nn.relu(tf.matmul(reshape, layer3_weights) + layer3_biases)\n",
    "    if is_training:\n",
    "        hidden  = tf.nn.dropout(hidden, keep_prob=keep_prob_dropout)\n",
    "\n",
    "    op = tf.matmul(hidden, op_weights) + op_biases\n",
    "    return op\n",
    "\n",
    "  logits = model(tf_train_dataset, True)\n",
    "  loss = tf.reduce_mean(\n",
    "    tf.nn.sparse_softmax_cross_entropy_with_logits(logits, tf_train_labels))\n",
    "    \n",
    "  # Optimizer.\n",
    "  global_step = tf.Variable(0)  # count the number of steps taken.\n",
    "    \n",
    "  # params for exponential_decay API\n",
    "  # https://www.tensorflow.org/versions/r0.7/api_docs/python/train.html#exponential_decay\n",
    "  # values for learning_rate [0.05, 0.15, 0.2, 0.25, 0.5]\n",
    "\n",
    "  learning_rate = tf.train.exponential_decay(0.15, global_step, 1000, 0.95)\n",
    "  optimizer = tf.train.GradientDescentOptimizer(learning_rate).minimize(loss, global_step=global_step)\n",
    "  #optimizer = tf.train.AdagradOptimizer(learning_rate).minimize(loss, global_step=global_step)\n",
    "\n",
    "  # Predictions for the training, validation, and test data.\n",
    "  train_prediction = tf.nn.softmax(logits)\n",
    "  valid_prediction = tf.nn.softmax(model(tf_valid_dataset))\n",
    "  test_prediction = tf.nn.softmax(model(tf_test_dataset))"
   ]
  },
  {
   "cell_type": "code",
   "execution_count": 19,
   "metadata": {
    "collapsed": false
   },
   "outputs": [
    {
     "name": "stdout",
     "output_type": "stream",
     "text": [
      "Initialized\n",
      "Minibatch loss at step 0: 2.342284\n",
      "Minibatch accuracy: 6.2%\n",
      "Validation accuracy: 15.5%\n",
      "Minibatch loss at step 2500: 0.142237\n",
      "Minibatch accuracy: 96.9%\n",
      "Validation accuracy: 88.7%\n",
      "Minibatch loss at step 5000: 0.124141\n",
      "Minibatch accuracy: 95.3%\n",
      "Validation accuracy: 90.0%\n",
      "Minibatch loss at step 7500: 0.204740\n",
      "Minibatch accuracy: 92.2%\n",
      "Validation accuracy: 91.1%\n",
      "Minibatch loss at step 10000: 0.259950\n",
      "Minibatch accuracy: 92.2%\n",
      "Validation accuracy: 91.9%\n",
      "Minibatch loss at step 12500: 0.164970\n",
      "Minibatch accuracy: 95.3%\n",
      "Validation accuracy: 92.6%\n",
      "Minibatch loss at step 15000: 0.101304\n",
      "Minibatch accuracy: 95.3%\n",
      "Validation accuracy: 92.5%\n",
      "Minibatch loss at step 17500: 0.114144\n",
      "Minibatch accuracy: 95.3%\n",
      "Validation accuracy: 92.7%\n",
      "Minibatch loss at step 20000: 0.114316\n",
      "Minibatch accuracy: 95.3%\n",
      "Validation accuracy: 93.0%\n",
      "Minibatch loss at step 22500: 0.040853\n",
      "Minibatch accuracy: 98.4%\n",
      "Validation accuracy: 93.0%\n",
      "Minibatch loss at step 25000: 0.176535\n",
      "Minibatch accuracy: 98.4%\n",
      "Validation accuracy: 93.3%\n",
      "Minibatch loss at step 27500: 0.012911\n",
      "Minibatch accuracy: 100.0%\n",
      "Validation accuracy: 93.4%\n",
      "Minibatch loss at step 30000: 0.023428\n",
      "Minibatch accuracy: 100.0%\n",
      "Validation accuracy: 93.3%\n",
      "Minibatch loss at step 32500: 0.032930\n",
      "Minibatch accuracy: 100.0%\n",
      "Validation accuracy: 93.7%\n",
      "Minibatch loss at step 35000: 0.129089\n",
      "Minibatch accuracy: 95.3%\n",
      "Validation accuracy: 93.7%\n",
      "Minibatch loss at step 37500: 0.194424\n",
      "Minibatch accuracy: 93.8%\n",
      "Validation accuracy: 93.6%\n",
      "Minibatch loss at step 40000: 0.106839\n",
      "Minibatch accuracy: 96.9%\n",
      "Validation accuracy: 93.7%\n",
      "Minibatch loss at step 42500: 0.008295\n",
      "Minibatch accuracy: 100.0%\n",
      "Validation accuracy: 94.1%\n",
      "Minibatch loss at step 45000: 0.058991\n",
      "Minibatch accuracy: 98.4%\n",
      "Validation accuracy: 93.9%\n",
      "Minibatch loss at step 47500: 0.057431\n",
      "Minibatch accuracy: 98.4%\n",
      "Validation accuracy: 94.0%\n",
      "Minibatch loss at step 50000: 0.171305\n",
      "Minibatch accuracy: 92.2%\n",
      "Validation accuracy: 94.1%\n",
      "Minibatch loss at step 52500: 0.090583\n",
      "Minibatch accuracy: 95.3%\n",
      "Validation accuracy: 94.1%\n",
      "Minibatch loss at step 55000: 0.233081\n",
      "Minibatch accuracy: 95.3%\n",
      "Validation accuracy: 94.1%\n",
      "Minibatch loss at step 57500: 0.654170\n",
      "Minibatch accuracy: 93.8%\n",
      "Validation accuracy: 94.2%\n",
      "Minibatch loss at step 60000: 0.077927\n",
      "Minibatch accuracy: 96.9%\n",
      "Validation accuracy: 94.2%\n",
      "Minibatch loss at step 62500: 0.090129\n",
      "Minibatch accuracy: 95.3%\n",
      "Validation accuracy: 94.3%\n",
      "Minibatch loss at step 65000: 0.117802\n",
      "Minibatch accuracy: 96.9%\n",
      "Validation accuracy: 94.3%\n",
      "Minibatch loss at step 67500: 0.059240\n",
      "Minibatch accuracy: 96.9%\n",
      "Validation accuracy: 94.3%\n",
      "Minibatch loss at step 70000: 0.082055\n",
      "Minibatch accuracy: 96.9%\n",
      "Validation accuracy: 94.3%\n",
      "Minibatch loss at step 72500: 0.040348\n",
      "Minibatch accuracy: 98.4%\n",
      "Validation accuracy: 94.2%\n",
      "Minibatch loss at step 75000: 0.055324\n",
      "Minibatch accuracy: 96.9%\n",
      "Validation accuracy: 94.4%\n",
      "Minibatch loss at step 77500: 0.029098\n",
      "Minibatch accuracy: 100.0%\n",
      "Validation accuracy: 94.2%\n",
      "Minibatch loss at step 80000: 0.089160\n",
      "Minibatch accuracy: 96.9%\n",
      "Validation accuracy: 94.2%\n",
      "Minibatch loss at step 82500: 0.007119\n",
      "Minibatch accuracy: 100.0%\n",
      "Validation accuracy: 94.4%\n",
      "Minibatch loss at step 85000: 0.056186\n",
      "Minibatch accuracy: 98.4%\n",
      "Validation accuracy: 94.3%\n",
      "Minibatch loss at step 87500: 0.210624\n",
      "Minibatch accuracy: 96.9%\n",
      "Validation accuracy: 94.4%\n",
      "Minibatch loss at step 90000: 0.271831\n",
      "Minibatch accuracy: 96.9%\n",
      "Validation accuracy: 94.3%\n",
      "Minibatch loss at step 92500: 0.085763\n",
      "Minibatch accuracy: 95.3%\n",
      "Validation accuracy: 94.4%\n",
      "Minibatch loss at step 95000: 0.139604\n",
      "Minibatch accuracy: 96.9%\n",
      "Validation accuracy: 94.4%\n",
      "Minibatch loss at step 97500: 0.100414\n",
      "Minibatch accuracy: 96.9%\n",
      "Validation accuracy: 94.4%\n",
      "Minibatch loss at step 100000: 0.057051\n",
      "Minibatch accuracy: 96.9%\n",
      "Validation accuracy: 94.3%\n",
      "Test accuracy: 94.0%\n"
     ]
    }
   ],
   "source": [
    "num_steps = 100001\n",
    "\n",
    "with tf.Session(graph=graph) as session:\n",
    "  ## initialize all variables\n",
    "  tf.initialize_all_variables().run()\n",
    "  print('Initialized')\n",
    "\n",
    "  ## run the session\n",
    "  for step in range(num_steps):\n",
    "    \n",
    "    # select the images to be used in this batch\n",
    "    offset = (step * batch_size) % (train_labels.shape[0] - batch_size)\n",
    "    batch_data = train_images[offset:(offset + batch_size), :, :, :]\n",
    "    \n",
    "    ## pick the corresponding labels\n",
    "    batch_labels = train_labels[offset:(offset + batch_size)]\n",
    "    \n",
    "    ## set them in the feed dict\n",
    "    feed_dict = {tf_train_dataset : batch_data, tf_train_labels : batch_labels}\n",
    "    \n",
    "    ## run the ession\n",
    "    _, l, predictions = session.run(\n",
    "      [optimizer, loss, train_prediction], feed_dict=feed_dict)\n",
    "    \n",
    "    ## print some reports periodically to track the progress\n",
    "    if (step % 2500 == 0):\n",
    "      print('Minibatch loss at step %d: %f' % (step, l))\n",
    "      print('Minibatch accuracy: %.1f%%' % accuracy(predictions, batch_labels))\n",
    "      print('Validation accuracy: %.1f%%' % accuracy(\n",
    "        valid_prediction.eval(), valid_labels))\n",
    "\n",
    "  ## now the model is trained. calculate final results\n",
    "  final_predictions = test_prediction.eval()\n",
    "  print('Test accuracy: %.1f%%' % accuracy(final_predictions, test_labels))"
   ]
  },
  {
   "cell_type": "code",
   "execution_count": 37,
   "metadata": {
    "collapsed": false
   },
   "outputs": [
    {
     "name": "stdout",
     "output_type": "stream",
     "text": [
      "(26032,)\n",
      "(26032, 10)\n",
      "(26032,)\n"
     ]
    }
   ],
   "source": [
    "## Hurray. We have gone up to 94! Time to stop the press!\n",
    "## Or at least to update the report.\n",
    "\n",
    "## calculate f1 score on this data\n",
    "from sklearn.metrics import f1_score\n",
    "\n",
    "print test_labels.shape\n",
    "print final_predictions.shape\n",
    "\n",
    "## convert final predictions to argmax-ed predictions (labels)\n",
    "\n",
    "predicted_labels = np.argmax(final_predictions, axis=1)\n",
    "print predicted_labels.shape"
   ]
  },
  {
   "cell_type": "code",
   "execution_count": 31,
   "metadata": {
    "collapsed": false
   },
   "outputs": [
    {
     "name": "stdout",
     "output_type": "stream",
     "text": [
      "Weighted f1 score across all classes: 0.939635150424\n",
      "--------------------------------------------------------------------------------\n",
      "Macro (unweighted) f1 score across all classes: 0.935047394066\n",
      "--------------------------------------------------------------------------------\n",
      "Micro f1 score across all classes: 0.939651198525\n",
      "--------------------------------------------------------------------------------\n",
      "Detailed F1 score across all classes\n",
      "\tDigit: 0, F1 score: 0.933782267116\n",
      "\tDigit: 1, F1 score: 0.953611274222\n",
      "\tDigit: 2, F1 score: 0.958076597801\n",
      "\tDigit: 3, F1 score: 0.92217630854\n",
      "\tDigit: 4, F1 score: 0.950553797468\n",
      "\tDigit: 5, F1 score: 0.93567498942\n",
      "\tDigit: 6, F1 score: 0.92574880443\n",
      "\tDigit: 7, F1 score: 0.94088301322\n",
      "\tDigit: 8, F1 score: 0.912128712871\n",
      "\tDigit: 9, F1 score: 0.91783817557\n"
     ]
    }
   ],
   "source": [
    "f1_weighted = f1_score(test_labels, predicted_labels, range(10), average='weighted')\n",
    "f1_macro = f1_score(test_labels, predicted_labels, range(10), average='macro')\n",
    "f1_micro = f1_score(test_labels, predicted_labels, range(10), average='micro')\n",
    "f1_detailed = f1_score(test_labels, predicted_labels, range(10), average=None)\n",
    "\n",
    "print \"Weighted f1 score across all classes: {}\".format(f1_weighted)\n",
    "print '-'*80\n",
    "print \"Macro (unweighted) f1 score across all classes: {}\".format(f1_macro)\n",
    "print '-'*80\n",
    "print \"Micro f1 score across all classes: {}\".format(f1_micro)\n",
    "print '-'*80\n",
    "print \"Detailed F1 score across all classes\"\n",
    "for k,v in zip(range(10), f1_detailed):\n",
    "    print \"\\tDigit: {}, F1 score: {}\".format(k, v)"
   ]
  },
  {
   "cell_type": "code",
   "execution_count": 78,
   "metadata": {
    "collapsed": false
   },
   "outputs": [
    {
     "data": {
      "image/png": "[encoded data removed]",
      "text/plain": [
       "<matplotlib.figure.Figure at 0x7f6a4024f090>"
      ]
     },
     "metadata": {},
     "output_type": "display_data"
    }
   ],
   "source": [
    "## plot the f1 scores for the various digits\n",
    "plot_label_data(labels, f1_detailed, 'Detailed F1 scores', 'Digits', 'F1-Score per digit')"
   ]
  }
 ],
 "metadata": {
  "kernelspec": {
   "display_name": "Python [Root]",
   "language": "python",
   "name": "Python [Root]"
  },
  "language_info": {
   "codemirror_mode": {
    "name": "ipython",
    "version": 2
   },
   "file_extension": ".py",
   "mimetype": "text/x-python",
   "name": "python",
   "nbconvert_exporter": "python",
   "pygments_lexer": "ipython2",
   "version": "2.7.12"
  }
 },
 "nbformat": 4,
 "nbformat_minor": 0
}
